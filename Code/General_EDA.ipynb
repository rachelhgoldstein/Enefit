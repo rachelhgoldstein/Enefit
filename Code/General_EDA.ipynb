{
 "cells": [
  {
   "cell_type": "markdown",
   "metadata": {},
   "source": [
    "# Enefit - Predict Energy Behavior of Prosumers\n",
    "<hr style=\"border:2px solid pink\">"
   ]
  },
  {
   "cell_type": "markdown",
   "metadata": {},
   "source": [
    "https://www.kaggle.com/competitions/predict-energy-behavior-of-prosumers/overview"
   ]
  },
  {
   "cell_type": "markdown",
   "metadata": {},
   "source": [
    "From kaggle: \n",
    "The goal of the competition is to predict the amount of electricity produced and consumed by Estonian energy customers who have installed solar panels.\n",
    "\n",
    "This competition aims to tackle the issue of energy imbalance, a situation where the energy expected to be used doesn't line up with the actual energy used or produced. Prosumers, who both consume and generate energy, contribute a large part of the energy imbalance. Despite being only a small part of all consumers, their unpredictable energy use causes logistical and financial problems for the energy companies."
   ]
  },
  {
   "cell_type": "markdown",
   "metadata": {},
   "source": [
    "Submissions are evaluated on the Mean Absolute Error (MAE) between the predicted return and the observed target."
   ]
  },
  {
   "cell_type": "code",
   "execution_count": 1,
   "metadata": {},
   "outputs": [],
   "source": [
    "import pandas as pd\n",
    "import numpy as np\n",
    "import seaborn as sns\n",
    "from matplotlib import pyplot as plt\n",
    "%matplotlib inline\n",
    "\n",
    "# from sklearn.model_selection import train_test_split, GridSearchCV, cross_val_score, cross_validate\n",
    "# from sklearn.pipeline import Pipeline\n",
    "# from sklearn.preprocessing import StandardScaler, OneHotEncoder, FunctionTransformer, PolynomialFeatures\n",
    "\n",
    "# from sklearn.impute import SimpleImputer, MissingIndicator\n",
    "# from sklearn.compose import ColumnTransformer,  make_column_selector as selector\n",
    "# from sklearn.linear_model import LogisticRegression\n",
    "# from sklearn.ensemble import RandomForestClassifier, GradientBoostingClassifier\n",
    "# from sklearn.metrics import recall_score, accuracy_score, precision_score, f1_score\n",
    "\n",
    "# from sklearn.dummy import DummyClassifier, DummyRegressor\n",
    "# from sklearn.tree import DecisionTreeClassifier\n",
    "# from sklearn.metrics import roc_auc_score\n",
    "# from sklearn.metrics import classification_report"
   ]
  },
  {
   "cell_type": "markdown",
   "metadata": {},
   "source": [
    "Load in the data."
   ]
  },
  {
   "cell_type": "code",
   "execution_count": 2,
   "metadata": {},
   "outputs": [],
   "source": [
    "client = pd.read_csv('../Data/client.csv')\n",
    "county_id_to_name_map = pd.read_csv('../Data/county_id_to_name_map.json')\n",
    "electricity_prices = pd.read_csv('../Data/electricity_prices.csv')\n",
    "forecast_weather = pd.read_csv('../Data/forecast_weather.csv')\n",
    "gas_prices = pd.read_csv('../Data/gas_prices.csv')\n",
    "historical_weather = pd.read_csv('../Data/historical_weather.csv')\n",
    "train = pd.read_csv('../Data/train.csv')\n",
    "weather_station_to_county_mapping = pd.read_csv('../Data/weather_station_to_county_mapping.csv')"
   ]
  },
  {
   "cell_type": "markdown",
   "metadata": {},
   "source": [
    "1. check out each file; do EDA, cleaning, visualizations, etc.\n",
    "2. decide which files to use for modeling and/or if to join any.\n",
    "3. save as csv.\n",
    "4. begin modeling."
   ]
  },
  {
   "cell_type": "markdown",
   "metadata": {},
   "source": [
    "Understanding connections between the data: \n",
    "TRAIN, GAS_PRICES, CLIENT, ELECTRICITY_PRICES, FORECAST_WEATHER, HISTORICAL_WEATHER, THEN 2 MAPPING ONES\n",
    "\n",
    "train\n",
    "\n",
    "1. county (ID code for the county, corresponds to mapping for all)\n",
    "2. is_business: 1 is yes, 0 is no\n",
    "3. product_type: ID code for different contract types. 0 is combined, 1 is fixed, 2 is general services, 3 is spot. \n",
    "4. target: consumption/production amount for the relevent segment for the hour. The segments are defined by county, is_business, and product_type. So the total energy for each diff combo of county, business, product type, etc.\n",
    "5. is_consumption: whether the rows target is consumption or production. \n",
    "6. datetime: describes the start of the 1-hour period on which the target is given. \n",
    "7. data_block_id: all rows sharing the same data_block_id will be available at the same forecast time. ????????\n",
    "8. row_id: unique identifier for the row. \n",
    "9. prediction_unit_id: unique identifier for county, is_business, and product_type combo. \n",
    "\n",
    "gas_prices\n",
    "\n",
    "10. origin_date: date when the day-ahead prices became available. \n",
    "11. forecast_date: date when the forecast prices are relevant. \n",
    "12. lowest/highest_price_per_mwh: min/max prices of natural gas on the ahead day, in euros per megawatt. \n",
    "\n",
    "client: \n",
    "\n",
    "13. eic_count: aggregated number of consumption points (eic = european identifier code)\n",
    "14. installed_capacity: installed solar panel capacity in kilowatts. \n",
    "15. is_business: yes or no\n",
    "\n",
    "electricity_prices\n",
    "\n",
    "16. forecast_date: start of the 1-hour period when the price is valid. \n",
    "17. euros_per_mwh: price of electricity on the day ahead. \n",
    "\n",
    "forecast_weather\n",
    "\n",
    "18. lat/longitude: coordinates of weather forecast. \n",
    "19. origin_datetime: timestamp when the forecast was generated. \n",
    "20. hours_ahead: number of hours between the forecast generation and the forecast weather. Each forecast covers a total of 48 hours. \n",
    "21. temperature: air temp at 2 meters above ground in celsius. Estimated for the end of the 1-hour period. \n",
    "22. dewpoint: dew point temp 2 meters above ground in celsius. Estimated for the end of the 1-hour period. \n",
    "23. cloudcover_low/mid/high/total: percent of the sky covered by clouds in the following altitude bands: 0-2, 2-6, 6+, and total (in km). Estimated for the end of the 1-hour period. \n",
    "24. 10_metre_u/v_wind_component: weed speed. Estimated for the end of the 1-hour period. \n",
    "25. forecast_datetime: timestamp for the predicted weather. Generated from origin_datetime + hours_ahead. Represents the start of the 1-hour period for which weather data is forecasted. \n",
    "\n",
    "historical_weather: \n",
    "\n",
    "26. datetime: start of the 1-hour period for which weather data is measured. \n",
    "27. temperature: measured at the end of the 1-hour period. \n",
    "28. dewpoint: measured at the end of the 1-hour period. \n",
    "29. rain, snowfall, cloudcover, windspeed, winddirection, radiation, are different in the different files. different scales. "
   ]
  },
  {
   "cell_type": "markdown",
   "metadata": {},
   "source": [
    "Check out each file. There are 8 total. "
   ]
  },
  {
   "cell_type": "markdown",
   "metadata": {},
   "source": [
    "##### File #1: Client\n",
    "<hr style=\"border:2px solid pink\">\n",
    "from kaggle: \n",
    "\n",
    "- product_type\n",
    "- county - An ID code for the county. See county_id_to_name_map.json for the mapping of ID codes to county names.\n",
    "- eic_count - The aggregated number of consumption points (EICs - European Identifier Code).\n",
    "- installed_capacity - Installed photovoltaic solar panel capacity in kilowatts.\n",
    "- is_business - Boolean for whether or not the prosumer is a business.\n",
    "- date\n",
    "- data_block_id"
   ]
  },
  {
   "cell_type": "code",
   "execution_count": 3,
   "metadata": {
    "scrolled": true
   },
   "outputs": [
    {
     "data": {
      "text/html": [
       "<div>\n",
       "<style scoped>\n",
       "    .dataframe tbody tr th:only-of-type {\n",
       "        vertical-align: middle;\n",
       "    }\n",
       "\n",
       "    .dataframe tbody tr th {\n",
       "        vertical-align: top;\n",
       "    }\n",
       "\n",
       "    .dataframe thead th {\n",
       "        text-align: right;\n",
       "    }\n",
       "</style>\n",
       "<table border=\"1\" class=\"dataframe\">\n",
       "  <thead>\n",
       "    <tr style=\"text-align: right;\">\n",
       "      <th></th>\n",
       "      <th>product_type</th>\n",
       "      <th>county</th>\n",
       "      <th>eic_count</th>\n",
       "      <th>installed_capacity</th>\n",
       "      <th>is_business</th>\n",
       "      <th>date</th>\n",
       "      <th>data_block_id</th>\n",
       "    </tr>\n",
       "  </thead>\n",
       "  <tbody>\n",
       "    <tr>\n",
       "      <th>0</th>\n",
       "      <td>1</td>\n",
       "      <td>0</td>\n",
       "      <td>108</td>\n",
       "      <td>952.89</td>\n",
       "      <td>0</td>\n",
       "      <td>2021-09-01</td>\n",
       "      <td>2</td>\n",
       "    </tr>\n",
       "    <tr>\n",
       "      <th>1</th>\n",
       "      <td>2</td>\n",
       "      <td>0</td>\n",
       "      <td>17</td>\n",
       "      <td>166.40</td>\n",
       "      <td>0</td>\n",
       "      <td>2021-09-01</td>\n",
       "      <td>2</td>\n",
       "    </tr>\n",
       "    <tr>\n",
       "      <th>2</th>\n",
       "      <td>3</td>\n",
       "      <td>0</td>\n",
       "      <td>688</td>\n",
       "      <td>7207.88</td>\n",
       "      <td>0</td>\n",
       "      <td>2021-09-01</td>\n",
       "      <td>2</td>\n",
       "    </tr>\n",
       "    <tr>\n",
       "      <th>3</th>\n",
       "      <td>0</td>\n",
       "      <td>0</td>\n",
       "      <td>5</td>\n",
       "      <td>400.00</td>\n",
       "      <td>1</td>\n",
       "      <td>2021-09-01</td>\n",
       "      <td>2</td>\n",
       "    </tr>\n",
       "    <tr>\n",
       "      <th>4</th>\n",
       "      <td>1</td>\n",
       "      <td>0</td>\n",
       "      <td>43</td>\n",
       "      <td>1411.00</td>\n",
       "      <td>1</td>\n",
       "      <td>2021-09-01</td>\n",
       "      <td>2</td>\n",
       "    </tr>\n",
       "  </tbody>\n",
       "</table>\n",
       "</div>"
      ],
      "text/plain": [
       "   product_type  county  eic_count  installed_capacity  is_business  \\\n",
       "0             1       0        108              952.89            0   \n",
       "1             2       0         17              166.40            0   \n",
       "2             3       0        688             7207.88            0   \n",
       "3             0       0          5              400.00            1   \n",
       "4             1       0         43             1411.00            1   \n",
       "\n",
       "         date  data_block_id  \n",
       "0  2021-09-01              2  \n",
       "1  2021-09-01              2  \n",
       "2  2021-09-01              2  \n",
       "3  2021-09-01              2  \n",
       "4  2021-09-01              2  "
      ]
     },
     "execution_count": 3,
     "metadata": {},
     "output_type": "execute_result"
    }
   ],
   "source": [
    "client.head()"
   ]
  },
  {
   "cell_type": "code",
   "execution_count": 4,
   "metadata": {},
   "outputs": [
    {
     "name": "stdout",
     "output_type": "stream",
     "text": [
      "<class 'pandas.core.frame.DataFrame'>\n",
      "RangeIndex: 41919 entries, 0 to 41918\n",
      "Data columns (total 7 columns):\n",
      " #   Column              Non-Null Count  Dtype  \n",
      "---  ------              --------------  -----  \n",
      " 0   product_type        41919 non-null  int64  \n",
      " 1   county              41919 non-null  int64  \n",
      " 2   eic_count           41919 non-null  int64  \n",
      " 3   installed_capacity  41919 non-null  float64\n",
      " 4   is_business         41919 non-null  int64  \n",
      " 5   date                41919 non-null  object \n",
      " 6   data_block_id       41919 non-null  int64  \n",
      "dtypes: float64(1), int64(5), object(1)\n",
      "memory usage: 2.2+ MB\n"
     ]
    }
   ],
   "source": [
    "client.info()\n",
    "# no missing info"
   ]
  },
  {
   "cell_type": "code",
   "execution_count": 5,
   "metadata": {},
   "outputs": [
    {
     "data": {
      "text/plain": [
       "product_type          0\n",
       "county                0\n",
       "eic_count             0\n",
       "installed_capacity    0\n",
       "is_business           0\n",
       "date                  0\n",
       "data_block_id         0\n",
       "dtype: int64"
      ]
     },
     "execution_count": 5,
     "metadata": {},
     "output_type": "execute_result"
    }
   ],
   "source": [
    "client.isna().sum()\n",
    "# confirmed no missing data"
   ]
  },
  {
   "cell_type": "markdown",
   "metadata": {},
   "source": [
    "There is no missing data, but the date is an object. Changing it to datetime. "
   ]
  },
  {
   "cell_type": "code",
   "execution_count": 6,
   "metadata": {},
   "outputs": [],
   "source": [
    "# function to automatically convert to datetime\n",
    "\n",
    "def convert_datetime(file, *columns): # *columns allows you to input diff amounts of columns\n",
    "    for column in columns: # loop through each column listed and do the following\n",
    "        file[column] = pd.to_datetime(file[column])\n",
    "    return file.dtypes # return the dtypes so that we can confirm it worked"
   ]
  },
  {
   "cell_type": "code",
   "execution_count": 7,
   "metadata": {
    "scrolled": true
   },
   "outputs": [
    {
     "data": {
      "text/plain": [
       "product_type                   int64\n",
       "county                         int64\n",
       "eic_count                      int64\n",
       "installed_capacity           float64\n",
       "is_business                    int64\n",
       "date                  datetime64[ns]\n",
       "data_block_id                  int64\n",
       "dtype: object"
      ]
     },
     "execution_count": 7,
     "metadata": {},
     "output_type": "execute_result"
    }
   ],
   "source": [
    "convert_datetime(client, 'date')"
   ]
  },
  {
   "cell_type": "markdown",
   "metadata": {},
   "source": [
    "Now date is in correct format. Confirm no duplicate entries. "
   ]
  },
  {
   "cell_type": "code",
   "execution_count": 8,
   "metadata": {},
   "outputs": [
    {
     "data": {
      "text/plain": [
       "0"
      ]
     },
     "execution_count": 8,
     "metadata": {},
     "output_type": "execute_result"
    }
   ],
   "source": [
    "client.duplicated().sum()\n",
    "# no duplicates"
   ]
  },
  {
   "cell_type": "code",
   "execution_count": 9,
   "metadata": {},
   "outputs": [
    {
     "data": {
      "text/html": [
       "<div>\n",
       "<style scoped>\n",
       "    .dataframe tbody tr th:only-of-type {\n",
       "        vertical-align: middle;\n",
       "    }\n",
       "\n",
       "    .dataframe tbody tr th {\n",
       "        vertical-align: top;\n",
       "    }\n",
       "\n",
       "    .dataframe thead th {\n",
       "        text-align: right;\n",
       "    }\n",
       "</style>\n",
       "<table border=\"1\" class=\"dataframe\">\n",
       "  <thead>\n",
       "    <tr style=\"text-align: right;\">\n",
       "      <th></th>\n",
       "      <th>product_type</th>\n",
       "      <th>county</th>\n",
       "      <th>eic_count</th>\n",
       "      <th>installed_capacity</th>\n",
       "      <th>is_business</th>\n",
       "      <th>data_block_id</th>\n",
       "    </tr>\n",
       "  </thead>\n",
       "  <tbody>\n",
       "    <tr>\n",
       "      <th>count</th>\n",
       "      <td>41919.000000</td>\n",
       "      <td>41919.000000</td>\n",
       "      <td>41919.000000</td>\n",
       "      <td>41919.000000</td>\n",
       "      <td>41919.000000</td>\n",
       "      <td>41919.000000</td>\n",
       "    </tr>\n",
       "    <tr>\n",
       "      <th>mean</th>\n",
       "      <td>1.898996</td>\n",
       "      <td>7.297097</td>\n",
       "      <td>73.345118</td>\n",
       "      <td>1450.771451</td>\n",
       "      <td>0.536773</td>\n",
       "      <td>322.898876</td>\n",
       "    </tr>\n",
       "    <tr>\n",
       "      <th>std</th>\n",
       "      <td>1.081713</td>\n",
       "      <td>4.780750</td>\n",
       "      <td>144.064389</td>\n",
       "      <td>2422.233120</td>\n",
       "      <td>0.498652</td>\n",
       "      <td>182.075724</td>\n",
       "    </tr>\n",
       "    <tr>\n",
       "      <th>min</th>\n",
       "      <td>0.000000</td>\n",
       "      <td>0.000000</td>\n",
       "      <td>5.000000</td>\n",
       "      <td>5.500000</td>\n",
       "      <td>0.000000</td>\n",
       "      <td>2.000000</td>\n",
       "    </tr>\n",
       "    <tr>\n",
       "      <th>25%</th>\n",
       "      <td>1.000000</td>\n",
       "      <td>3.000000</td>\n",
       "      <td>13.000000</td>\n",
       "      <td>321.900000</td>\n",
       "      <td>0.000000</td>\n",
       "      <td>167.000000</td>\n",
       "    </tr>\n",
       "    <tr>\n",
       "      <th>50%</th>\n",
       "      <td>2.000000</td>\n",
       "      <td>7.000000</td>\n",
       "      <td>32.000000</td>\n",
       "      <td>645.200000</td>\n",
       "      <td>1.000000</td>\n",
       "      <td>324.000000</td>\n",
       "    </tr>\n",
       "    <tr>\n",
       "      <th>75%</th>\n",
       "      <td>3.000000</td>\n",
       "      <td>11.000000</td>\n",
       "      <td>70.000000</td>\n",
       "      <td>1567.150000</td>\n",
       "      <td>1.000000</td>\n",
       "      <td>480.000000</td>\n",
       "    </tr>\n",
       "    <tr>\n",
       "      <th>max</th>\n",
       "      <td>3.000000</td>\n",
       "      <td>15.000000</td>\n",
       "      <td>1517.000000</td>\n",
       "      <td>19314.310000</td>\n",
       "      <td>1.000000</td>\n",
       "      <td>637.000000</td>\n",
       "    </tr>\n",
       "  </tbody>\n",
       "</table>\n",
       "</div>"
      ],
      "text/plain": [
       "       product_type        county     eic_count  installed_capacity  \\\n",
       "count  41919.000000  41919.000000  41919.000000        41919.000000   \n",
       "mean       1.898996      7.297097     73.345118         1450.771451   \n",
       "std        1.081713      4.780750    144.064389         2422.233120   \n",
       "min        0.000000      0.000000      5.000000            5.500000   \n",
       "25%        1.000000      3.000000     13.000000          321.900000   \n",
       "50%        2.000000      7.000000     32.000000          645.200000   \n",
       "75%        3.000000     11.000000     70.000000         1567.150000   \n",
       "max        3.000000     15.000000   1517.000000        19314.310000   \n",
       "\n",
       "        is_business  data_block_id  \n",
       "count  41919.000000   41919.000000  \n",
       "mean       0.536773     322.898876  \n",
       "std        0.498652     182.075724  \n",
       "min        0.000000       2.000000  \n",
       "25%        0.000000     167.000000  \n",
       "50%        1.000000     324.000000  \n",
       "75%        1.000000     480.000000  \n",
       "max        1.000000     637.000000  "
      ]
     },
     "execution_count": 9,
     "metadata": {},
     "output_type": "execute_result"
    }
   ],
   "source": [
    "# look at the summary stats.\n",
    "client.describe()"
   ]
  },
  {
   "cell_type": "markdown",
   "metadata": {},
   "source": [
    "Let's explore some patterns in the data\n",
    "\n",
    "1. compare product_types to county, installed capacity, is business, date.\n",
    "2. compare county to installed capacity\n",
    "3. county vs is_business\n",
    "4. is_business vs installed_capacity\n",
    "5. explore dates - does month, year impact anything (compare to installed capacity, maybe certain months are more likely to have higher capacities)"
   ]
  },
  {
   "cell_type": "code",
   "execution_count": 10,
   "metadata": {},
   "outputs": [
    {
     "data": {
      "text/plain": [
       "3    19080\n",
       "1    16232\n",
       "0     3541\n",
       "2     3066\n",
       "Name: product_type, dtype: int64"
      ]
     },
     "execution_count": 10,
     "metadata": {},
     "output_type": "execute_result"
    }
   ],
   "source": [
    "client['product_type'].value_counts()\n",
    "# 0: combined\n",
    "# 1: fixed\n",
    "# 2: general service\n",
    "# 3: spot"
   ]
  },
  {
   "cell_type": "code",
   "execution_count": 11,
   "metadata": {},
   "outputs": [
    {
     "data": {
      "text/html": [
       "<div>\n",
       "<style scoped>\n",
       "    .dataframe tbody tr th:only-of-type {\n",
       "        vertical-align: middle;\n",
       "    }\n",
       "\n",
       "    .dataframe tbody tr th {\n",
       "        vertical-align: top;\n",
       "    }\n",
       "\n",
       "    .dataframe thead th {\n",
       "        text-align: right;\n",
       "    }\n",
       "</style>\n",
       "<table border=\"1\" class=\"dataframe\">\n",
       "  <thead>\n",
       "    <tr style=\"text-align: right;\">\n",
       "      <th></th>\n",
       "      <th>product_type</th>\n",
       "      <th>county</th>\n",
       "      <th>eic_count</th>\n",
       "      <th>installed_capacity</th>\n",
       "      <th>is_business</th>\n",
       "      <th>date</th>\n",
       "      <th>data_block_id</th>\n",
       "    </tr>\n",
       "  </thead>\n",
       "  <tbody>\n",
       "    <tr>\n",
       "      <th>0</th>\n",
       "      <td>1</td>\n",
       "      <td>0</td>\n",
       "      <td>108</td>\n",
       "      <td>952.89</td>\n",
       "      <td>0</td>\n",
       "      <td>2021-09-01</td>\n",
       "      <td>2</td>\n",
       "    </tr>\n",
       "    <tr>\n",
       "      <th>1</th>\n",
       "      <td>2</td>\n",
       "      <td>0</td>\n",
       "      <td>17</td>\n",
       "      <td>166.40</td>\n",
       "      <td>0</td>\n",
       "      <td>2021-09-01</td>\n",
       "      <td>2</td>\n",
       "    </tr>\n",
       "    <tr>\n",
       "      <th>2</th>\n",
       "      <td>3</td>\n",
       "      <td>0</td>\n",
       "      <td>688</td>\n",
       "      <td>7207.88</td>\n",
       "      <td>0</td>\n",
       "      <td>2021-09-01</td>\n",
       "      <td>2</td>\n",
       "    </tr>\n",
       "    <tr>\n",
       "      <th>3</th>\n",
       "      <td>0</td>\n",
       "      <td>0</td>\n",
       "      <td>5</td>\n",
       "      <td>400.00</td>\n",
       "      <td>1</td>\n",
       "      <td>2021-09-01</td>\n",
       "      <td>2</td>\n",
       "    </tr>\n",
       "    <tr>\n",
       "      <th>4</th>\n",
       "      <td>1</td>\n",
       "      <td>0</td>\n",
       "      <td>43</td>\n",
       "      <td>1411.00</td>\n",
       "      <td>1</td>\n",
       "      <td>2021-09-01</td>\n",
       "      <td>2</td>\n",
       "    </tr>\n",
       "  </tbody>\n",
       "</table>\n",
       "</div>"
      ],
      "text/plain": [
       "   product_type  county  eic_count  installed_capacity  is_business  \\\n",
       "0             1       0        108              952.89            0   \n",
       "1             2       0         17              166.40            0   \n",
       "2             3       0        688             7207.88            0   \n",
       "3             0       0          5              400.00            1   \n",
       "4             1       0         43             1411.00            1   \n",
       "\n",
       "        date  data_block_id  \n",
       "0 2021-09-01              2  \n",
       "1 2021-09-01              2  \n",
       "2 2021-09-01              2  \n",
       "3 2021-09-01              2  \n",
       "4 2021-09-01              2  "
      ]
     },
     "execution_count": 11,
     "metadata": {},
     "output_type": "execute_result"
    }
   ],
   "source": [
    "client.head()"
   ]
  },
  {
   "cell_type": "code",
   "execution_count": 12,
   "metadata": {},
   "outputs": [
    {
     "data": {
      "text/plain": [
       "636"
      ]
     },
     "execution_count": 12,
     "metadata": {},
     "output_type": "execute_result"
    }
   ],
   "source": [
    "client['date'].nunique()"
   ]
  },
  {
   "cell_type": "code",
   "execution_count": 13,
   "metadata": {},
   "outputs": [
    {
     "data": {
      "text/html": [
       "<div>\n",
       "<style scoped>\n",
       "    .dataframe tbody tr th:only-of-type {\n",
       "        vertical-align: middle;\n",
       "    }\n",
       "\n",
       "    .dataframe tbody tr th {\n",
       "        vertical-align: top;\n",
       "    }\n",
       "\n",
       "    .dataframe thead th {\n",
       "        text-align: right;\n",
       "    }\n",
       "</style>\n",
       "<table border=\"1\" class=\"dataframe\">\n",
       "  <thead>\n",
       "    <tr style=\"text-align: right;\">\n",
       "      <th></th>\n",
       "      <th>product_type</th>\n",
       "      <th>county</th>\n",
       "      <th>eic_count</th>\n",
       "      <th>installed_capacity</th>\n",
       "      <th>is_business</th>\n",
       "      <th>date</th>\n",
       "      <th>data_block_id</th>\n",
       "      <th>month</th>\n",
       "      <th>year</th>\n",
       "    </tr>\n",
       "  </thead>\n",
       "  <tbody>\n",
       "    <tr>\n",
       "      <th>0</th>\n",
       "      <td>1</td>\n",
       "      <td>0</td>\n",
       "      <td>108</td>\n",
       "      <td>952.89</td>\n",
       "      <td>0</td>\n",
       "      <td>2021-09-01</td>\n",
       "      <td>2</td>\n",
       "      <td>9</td>\n",
       "      <td>2021</td>\n",
       "    </tr>\n",
       "    <tr>\n",
       "      <th>1</th>\n",
       "      <td>2</td>\n",
       "      <td>0</td>\n",
       "      <td>17</td>\n",
       "      <td>166.40</td>\n",
       "      <td>0</td>\n",
       "      <td>2021-09-01</td>\n",
       "      <td>2</td>\n",
       "      <td>9</td>\n",
       "      <td>2021</td>\n",
       "    </tr>\n",
       "    <tr>\n",
       "      <th>2</th>\n",
       "      <td>3</td>\n",
       "      <td>0</td>\n",
       "      <td>688</td>\n",
       "      <td>7207.88</td>\n",
       "      <td>0</td>\n",
       "      <td>2021-09-01</td>\n",
       "      <td>2</td>\n",
       "      <td>9</td>\n",
       "      <td>2021</td>\n",
       "    </tr>\n",
       "    <tr>\n",
       "      <th>3</th>\n",
       "      <td>0</td>\n",
       "      <td>0</td>\n",
       "      <td>5</td>\n",
       "      <td>400.00</td>\n",
       "      <td>1</td>\n",
       "      <td>2021-09-01</td>\n",
       "      <td>2</td>\n",
       "      <td>9</td>\n",
       "      <td>2021</td>\n",
       "    </tr>\n",
       "    <tr>\n",
       "      <th>4</th>\n",
       "      <td>1</td>\n",
       "      <td>0</td>\n",
       "      <td>43</td>\n",
       "      <td>1411.00</td>\n",
       "      <td>1</td>\n",
       "      <td>2021-09-01</td>\n",
       "      <td>2</td>\n",
       "      <td>9</td>\n",
       "      <td>2021</td>\n",
       "    </tr>\n",
       "  </tbody>\n",
       "</table>\n",
       "</div>"
      ],
      "text/plain": [
       "   product_type  county  eic_count  installed_capacity  is_business  \\\n",
       "0             1       0        108              952.89            0   \n",
       "1             2       0         17              166.40            0   \n",
       "2             3       0        688             7207.88            0   \n",
       "3             0       0          5              400.00            1   \n",
       "4             1       0         43             1411.00            1   \n",
       "\n",
       "        date  data_block_id  month  year  \n",
       "0 2021-09-01              2      9  2021  \n",
       "1 2021-09-01              2      9  2021  \n",
       "2 2021-09-01              2      9  2021  \n",
       "3 2021-09-01              2      9  2021  \n",
       "4 2021-09-01              2      9  2021  "
      ]
     },
     "execution_count": 13,
     "metadata": {},
     "output_type": "execute_result"
    }
   ],
   "source": [
    "# add a month and year column so we can look at trends\n",
    "client['month'] = client['date'].dt.month\n",
    "client['year'] = client['date'].dt.year\n",
    "client.head()"
   ]
  },
  {
   "cell_type": "code",
   "execution_count": 57,
   "metadata": {},
   "outputs": [
    {
     "data": {
      "text/plain": [
       "year  month\n",
       "2021  9        1158.459454\n",
       "      10       1175.036487\n",
       "      11       1167.548571\n",
       "      12       1182.550666\n",
       "2022  1        1141.587717\n",
       "      2        1157.800862\n",
       "      3        1191.310029\n",
       "      4        1212.701915\n",
       "      5        1260.965017\n",
       "      6        1320.063930\n",
       "      7        1415.060709\n",
       "      8        1471.529169\n",
       "      9        1512.972090\n",
       "      10       1546.584478\n",
       "      11       1569.241932\n",
       "      12       1661.399355\n",
       "2023  1        1705.511576\n",
       "      2        1747.738365\n",
       "      3        1814.143414\n",
       "      4        1888.725633\n",
       "      5        2125.853233\n",
       "Name: installed_capacity, dtype: float64"
      ]
     },
     "execution_count": 57,
     "metadata": {},
     "output_type": "execute_result"
    }
   ],
   "source": [
    "# data contains 4 months of 2021, all of 2022, and 5 months of 2023. \n",
    "client.groupby(['year', 'month'])['installed_capacity'].mean()"
   ]
  },
  {
   "cell_type": "code",
   "execution_count": 54,
   "metadata": {},
   "outputs": [],
   "source": [
    "# average installed capacity grouped by year and month\n",
    "# set as dataframe to make visualizations easier\n",
    "\n",
    "client_year = pd.DataFrame(client.groupby('year')['installed_capacity'].mean())\n",
    "client_month = pd.DataFrame(client.groupby('month')['installed_capacity'].mean())\n",
    "client_month_year = pd.DataFrame(client.groupby(['month', 'year'])['installed_capacity'].mean())"
   ]
  },
  {
   "cell_type": "code",
   "execution_count": 55,
   "metadata": {},
   "outputs": [
    {
     "data": {
      "text/html": [
       "<div>\n",
       "<style scoped>\n",
       "    .dataframe tbody tr th:only-of-type {\n",
       "        vertical-align: middle;\n",
       "    }\n",
       "\n",
       "    .dataframe tbody tr th {\n",
       "        vertical-align: top;\n",
       "    }\n",
       "\n",
       "    .dataframe thead th {\n",
       "        text-align: right;\n",
       "    }\n",
       "</style>\n",
       "<table border=\"1\" class=\"dataframe\">\n",
       "  <thead>\n",
       "    <tr style=\"text-align: right;\">\n",
       "      <th></th>\n",
       "      <th>installed_capacity</th>\n",
       "    </tr>\n",
       "    <tr>\n",
       "      <th>year</th>\n",
       "      <th></th>\n",
       "    </tr>\n",
       "  </thead>\n",
       "  <tbody>\n",
       "    <tr>\n",
       "      <th>2021</th>\n",
       "      <td>1171.127106</td>\n",
       "    </tr>\n",
       "    <tr>\n",
       "      <th>2022</th>\n",
       "      <td>1374.430980</td>\n",
       "    </tr>\n",
       "    <tr>\n",
       "      <th>2023</th>\n",
       "      <td>1854.960169</td>\n",
       "    </tr>\n",
       "  </tbody>\n",
       "</table>\n",
       "</div>"
      ],
      "text/plain": [
       "      installed_capacity\n",
       "year                    \n",
       "2021         1171.127106\n",
       "2022         1374.430980\n",
       "2023         1854.960169"
      ]
     },
     "execution_count": 55,
     "metadata": {},
     "output_type": "execute_result"
    }
   ],
   "source": [
    "client_year"
   ]
  },
  {
   "cell_type": "code",
   "execution_count": 60,
   "metadata": {},
   "outputs": [
    {
     "data": {
      "image/png": "[encoded data removed]",
      "text/plain": [
       "<Figure size 432x288 with 1 Axes>"
      ]
     },
     "metadata": {
      "needs_background": "light"
     },
     "output_type": "display_data"
    }
   ],
   "source": [
    "sns.barplot(data=client_year, x=client_year.index, y='installed_capacity')\n",
    "plt.title('Average Solar Panel Capacity by Year')\n",
    "plt.ylabel('Installed Capacity in kilowatts')\n",
    "plt.show();"
   ]
  },
  {
   "cell_type": "code",
   "execution_count": 61,
   "metadata": {},
   "outputs": [],
   "source": [
    "# even though there is less data in 2023, there is more installed capacity than in prior years. "
   ]
  },
  {
   "cell_type": "code",
   "execution_count": 64,
   "metadata": {},
   "outputs": [
    {
     "data": {
      "text/plain": [
       "1    22501\n",
       "0    19418\n",
       "Name: is_business, dtype: int64"
      ]
     },
     "execution_count": 64,
     "metadata": {},
     "output_type": "execute_result"
    }
   ],
   "source": [
    "client['is_business'].value_counts()"
   ]
  },
  {
   "cell_type": "code",
   "execution_count": 71,
   "metadata": {},
   "outputs": [
    {
     "data": {
      "image/png": "[encoded data removed]",
      "text/plain": [
       "<Figure size 432x288 with 1 Axes>"
      ]
     },
     "metadata": {
      "needs_background": "light"
     },
     "output_type": "display_data"
    }
   ],
   "source": [
    "sns.barplot(data=pd.DataFrame(client.groupby('year')['is_business'].count()), \n",
    "           x=['2021', '2022', '2023'], \n",
    "           y='is_business')\n",
    "plt.title('Business by Year')\n",
    "plt.ylabel('Count of Businesses')\n",
    "plt.xlabel('Year')\n",
    "plt.show();"
   ]
  },
  {
   "cell_type": "code",
   "execution_count": 88,
   "metadata": {},
   "outputs": [
    {
     "data": {
      "image/png": "[encoded data removed]",
      "text/plain": [
       "<Figure size 432x288 with 1 Axes>"
      ]
     },
     "metadata": {
      "needs_background": "light"
     },
     "output_type": "display_data"
    }
   ],
   "source": [
    "sns.barplot(data=pd.DataFrame(client.groupby('month')['is_business'].count()), \n",
    "           x=['1', '2', '3', '4', '5', '6', '7', '8', '9', '10', '11', '12'], \n",
    "           y='is_business')\n",
    "plt.title('Business by Month')\n",
    "plt.ylabel('Count of Businesses')\n",
    "plt.xlabel('Month')\n",
    "plt.show();"
   ]
  },
  {
   "cell_type": "code",
   "execution_count": 149,
   "metadata": {},
   "outputs": [
    {
     "data": {
      "image/png": "[encoded data removed]",
      "text/plain": [
       "<Figure size 432x288 with 1 Axes>"
      ]
     },
     "metadata": {
      "needs_background": "light"
     },
     "output_type": "display_data"
    }
   ],
   "source": [
    "business_ym = pd.DataFrame(client.groupby(['year', 'month'])['is_business'].count())\n",
    "business_ym.reset_index(inplace=True)\n",
    "\n",
    "sns.barplot(data=business_ym, x='month', y='is_business', hue='year', palette='husl')\n",
    "plt.title('Business by Year/Month')\n",
    "plt.ylabel('Count of Businesses')\n",
    "plt.xlabel('Year/Month')\n",
    "plt.show();"
   ]
  },
  {
   "cell_type": "code",
   "execution_count": 152,
   "metadata": {},
   "outputs": [
    {
     "data": {
      "image/png": "[encoded data removed]",
      "text/plain": [
       "<Figure size 432x288 with 1 Axes>"
      ]
     },
     "metadata": {
      "needs_background": "light"
     },
     "output_type": "display_data"
    }
   ],
   "source": [
    "avg_county_capacity = pd.DataFrame(client.groupby('county')['installed_capacity'].mean())\n",
    "sns.barplot(data=avg_county_capacity, x=avg_county_capacity.index, y='installed_capacity')\n",
    "plt.show();"
   ]
  },
  {
   "cell_type": "code",
   "execution_count": null,
   "metadata": {},
   "outputs": [],
   "source": [
    "# county 0 has the most installed capacity"
   ]
  },
  {
   "cell_type": "code",
   "execution_count": 157,
   "metadata": {},
   "outputs": [
    {
     "data": {
      "image/png": "[encoded data removed]",
      "text/plain": [
       "<Figure size 432x288 with 1 Axes>"
      ]
     },
     "metadata": {
      "needs_background": "light"
     },
     "output_type": "display_data"
    }
   ],
   "source": [
    "avg_county_year = pd.DataFrame(client.groupby(['county', 'year'])['installed_capacity'].mean())\n",
    "avg_county_year.reset_index(inplace=True)\n",
    "\n",
    "sns.barplot(data=avg_county_year, x='year', y='installed_capacity', hue='county', palette='Spectral')\n",
    "plt.show()"
   ]
  },
  {
   "cell_type": "code",
   "execution_count": 159,
   "metadata": {},
   "outputs": [
    {
     "data": {
      "image/png": "[encoded data removed]",
      "text/plain": [
       "<Figure size 432x288 with 1 Axes>"
      ]
     },
     "metadata": {
      "needs_background": "light"
     },
     "output_type": "display_data"
    }
   ],
   "source": [
    "count_county_year_bus = pd.DataFrame(client.groupby(['county', 'year'])['is_business'].count())\n",
    "count_county_year_bus.reset_index(inplace=True)\n",
    "\n",
    "sns.barplot(data=count_county_year_bus, x='year', y='is_business', hue='county', palette='Spectral')\n",
    "plt.show();"
   ]
  },
  {
   "cell_type": "code",
   "execution_count": 72,
   "metadata": {},
   "outputs": [
    {
     "data": {
      "text/html": [
       "<div>\n",
       "<style scoped>\n",
       "    .dataframe tbody tr th:only-of-type {\n",
       "        vertical-align: middle;\n",
       "    }\n",
       "\n",
       "    .dataframe tbody tr th {\n",
       "        vertical-align: top;\n",
       "    }\n",
       "\n",
       "    .dataframe thead th {\n",
       "        text-align: right;\n",
       "    }\n",
       "</style>\n",
       "<table border=\"1\" class=\"dataframe\">\n",
       "  <thead>\n",
       "    <tr style=\"text-align: right;\">\n",
       "      <th></th>\n",
       "      <th>product_type</th>\n",
       "      <th>county</th>\n",
       "      <th>eic_count</th>\n",
       "      <th>installed_capacity</th>\n",
       "      <th>is_business</th>\n",
       "      <th>date</th>\n",
       "      <th>data_block_id</th>\n",
       "      <th>month</th>\n",
       "      <th>year</th>\n",
       "    </tr>\n",
       "  </thead>\n",
       "  <tbody>\n",
       "    <tr>\n",
       "      <th>0</th>\n",
       "      <td>1</td>\n",
       "      <td>0</td>\n",
       "      <td>108</td>\n",
       "      <td>952.89</td>\n",
       "      <td>0</td>\n",
       "      <td>2021-09-01</td>\n",
       "      <td>2</td>\n",
       "      <td>9</td>\n",
       "      <td>2021</td>\n",
       "    </tr>\n",
       "    <tr>\n",
       "      <th>1</th>\n",
       "      <td>2</td>\n",
       "      <td>0</td>\n",
       "      <td>17</td>\n",
       "      <td>166.40</td>\n",
       "      <td>0</td>\n",
       "      <td>2021-09-01</td>\n",
       "      <td>2</td>\n",
       "      <td>9</td>\n",
       "      <td>2021</td>\n",
       "    </tr>\n",
       "    <tr>\n",
       "      <th>2</th>\n",
       "      <td>3</td>\n",
       "      <td>0</td>\n",
       "      <td>688</td>\n",
       "      <td>7207.88</td>\n",
       "      <td>0</td>\n",
       "      <td>2021-09-01</td>\n",
       "      <td>2</td>\n",
       "      <td>9</td>\n",
       "      <td>2021</td>\n",
       "    </tr>\n",
       "    <tr>\n",
       "      <th>3</th>\n",
       "      <td>0</td>\n",
       "      <td>0</td>\n",
       "      <td>5</td>\n",
       "      <td>400.00</td>\n",
       "      <td>1</td>\n",
       "      <td>2021-09-01</td>\n",
       "      <td>2</td>\n",
       "      <td>9</td>\n",
       "      <td>2021</td>\n",
       "    </tr>\n",
       "    <tr>\n",
       "      <th>4</th>\n",
       "      <td>1</td>\n",
       "      <td>0</td>\n",
       "      <td>43</td>\n",
       "      <td>1411.00</td>\n",
       "      <td>1</td>\n",
       "      <td>2021-09-01</td>\n",
       "      <td>2</td>\n",
       "      <td>9</td>\n",
       "      <td>2021</td>\n",
       "    </tr>\n",
       "  </tbody>\n",
       "</table>\n",
       "</div>"
      ],
      "text/plain": [
       "   product_type  county  eic_count  installed_capacity  is_business  \\\n",
       "0             1       0        108              952.89            0   \n",
       "1             2       0         17              166.40            0   \n",
       "2             3       0        688             7207.88            0   \n",
       "3             0       0          5              400.00            1   \n",
       "4             1       0         43             1411.00            1   \n",
       "\n",
       "        date  data_block_id  month  year  \n",
       "0 2021-09-01              2      9  2021  \n",
       "1 2021-09-01              2      9  2021  \n",
       "2 2021-09-01              2      9  2021  \n",
       "3 2021-09-01              2      9  2021  \n",
       "4 2021-09-01              2      9  2021  "
      ]
     },
     "execution_count": 72,
     "metadata": {},
     "output_type": "execute_result"
    }
   ],
   "source": [
    "client.head()"
   ]
  },
  {
   "cell_type": "code",
   "execution_count": null,
   "metadata": {},
   "outputs": [],
   "source": []
  },
  {
   "cell_type": "code",
   "execution_count": null,
   "metadata": {},
   "outputs": [],
   "source": []
  },
  {
   "cell_type": "markdown",
   "metadata": {},
   "source": [
    "##### File #2: county_id_to_name_map\n",
    "<hr style=\"border:2px solid pink\">"
   ]
  },
  {
   "cell_type": "code",
   "execution_count": 10,
   "metadata": {},
   "outputs": [
    {
     "data": {
      "text/html": [
       "<div>\n",
       "<style scoped>\n",
       "    .dataframe tbody tr th:only-of-type {\n",
       "        vertical-align: middle;\n",
       "    }\n",
       "\n",
       "    .dataframe tbody tr th {\n",
       "        vertical-align: top;\n",
       "    }\n",
       "\n",
       "    .dataframe thead th {\n",
       "        text-align: right;\n",
       "    }\n",
       "</style>\n",
       "<table border=\"1\" class=\"dataframe\">\n",
       "  <thead>\n",
       "    <tr style=\"text-align: right;\">\n",
       "      <th></th>\n",
       "      <th>{\"0\":\"HARJUMAA\"</th>\n",
       "      <th>1:\"HIIUMAA\"</th>\n",
       "      <th>2:\"IDA-VIRUMAA\"</th>\n",
       "      <th>3:\"J\\u00c4RVAMAA\"</th>\n",
       "      <th>4:\"J\\u00d5GEVAMAA\"</th>\n",
       "      <th>5:\"L\\u00c4\\u00c4NE-VIRUMAA\"</th>\n",
       "      <th>6:\"L\\u00c4\\u00c4NEMAA\"</th>\n",
       "      <th>7:\"P\\u00c4RNUMAA\"</th>\n",
       "      <th>8:\"P\\u00d5LVAMAA\"</th>\n",
       "      <th>9:\"RAPLAMAA\"</th>\n",
       "      <th>10:\"SAAREMAA\"</th>\n",
       "      <th>11:\"TARTUMAA\"</th>\n",
       "      <th>12:\"UNKNOWN\"</th>\n",
       "      <th>13:\"VALGAMAA\"</th>\n",
       "      <th>14:\"VILJANDIMAA\"</th>\n",
       "      <th>15:\"V\\u00d5RUMAA\"}</th>\n",
       "    </tr>\n",
       "  </thead>\n",
       "  <tbody>\n",
       "  </tbody>\n",
       "</table>\n",
       "</div>"
      ],
      "text/plain": [
       "Empty DataFrame\n",
       "Columns: [{\"0\":\"HARJUMAA\", 1:\"HIIUMAA\", 2:\"IDA-VIRUMAA\", 3:\"J\\u00c4RVAMAA\", 4:\"J\\u00d5GEVAMAA\", 5:\"L\\u00c4\\u00c4NE-VIRUMAA\", 6:\"L\\u00c4\\u00c4NEMAA\", 7:\"P\\u00c4RNUMAA\", 8:\"P\\u00d5LVAMAA\", 9:\"RAPLAMAA\", 10:\"SAAREMAA\", 11:\"TARTUMAA\", 12:\"UNKNOWN\", 13:\"VALGAMAA\", 14:\"VILJANDIMAA\", 15:\"V\\u00d5RUMAA\"}]\n",
       "Index: []"
      ]
     },
     "execution_count": 10,
     "metadata": {},
     "output_type": "execute_result"
    }
   ],
   "source": [
    "county_id_to_name_map"
   ]
  },
  {
   "cell_type": "markdown",
   "metadata": {},
   "source": [
    "Might need to clean up the indexes. Okay for now. Moving on"
   ]
  },
  {
   "cell_type": "markdown",
   "metadata": {},
   "source": [
    "##### File #3: electricity_prices: \n",
    "<hr style=\"border:2px solid pink\">\n",
    "- origin_date\n",
    "- forecast_date - Represents the start of the 1-hour period when the price is valid\n",
    "- euros_per_mwh - The price of electricity on the day ahead markets in euros per megawatt hour.\n",
    "- data_block_id"
   ]
  },
  {
   "cell_type": "code",
   "execution_count": 11,
   "metadata": {},
   "outputs": [
    {
     "data": {
      "text/html": [
       "<div>\n",
       "<style scoped>\n",
       "    .dataframe tbody tr th:only-of-type {\n",
       "        vertical-align: middle;\n",
       "    }\n",
       "\n",
       "    .dataframe tbody tr th {\n",
       "        vertical-align: top;\n",
       "    }\n",
       "\n",
       "    .dataframe thead th {\n",
       "        text-align: right;\n",
       "    }\n",
       "</style>\n",
       "<table border=\"1\" class=\"dataframe\">\n",
       "  <thead>\n",
       "    <tr style=\"text-align: right;\">\n",
       "      <th></th>\n",
       "      <th>forecast_date</th>\n",
       "      <th>euros_per_mwh</th>\n",
       "      <th>origin_date</th>\n",
       "      <th>data_block_id</th>\n",
       "    </tr>\n",
       "  </thead>\n",
       "  <tbody>\n",
       "    <tr>\n",
       "      <th>0</th>\n",
       "      <td>2021-09-01 00:00:00</td>\n",
       "      <td>92.51</td>\n",
       "      <td>2021-08-31 00:00:00</td>\n",
       "      <td>1</td>\n",
       "    </tr>\n",
       "    <tr>\n",
       "      <th>1</th>\n",
       "      <td>2021-09-01 01:00:00</td>\n",
       "      <td>88.90</td>\n",
       "      <td>2021-08-31 01:00:00</td>\n",
       "      <td>1</td>\n",
       "    </tr>\n",
       "    <tr>\n",
       "      <th>2</th>\n",
       "      <td>2021-09-01 02:00:00</td>\n",
       "      <td>87.35</td>\n",
       "      <td>2021-08-31 02:00:00</td>\n",
       "      <td>1</td>\n",
       "    </tr>\n",
       "    <tr>\n",
       "      <th>3</th>\n",
       "      <td>2021-09-01 03:00:00</td>\n",
       "      <td>86.88</td>\n",
       "      <td>2021-08-31 03:00:00</td>\n",
       "      <td>1</td>\n",
       "    </tr>\n",
       "    <tr>\n",
       "      <th>4</th>\n",
       "      <td>2021-09-01 04:00:00</td>\n",
       "      <td>88.43</td>\n",
       "      <td>2021-08-31 04:00:00</td>\n",
       "      <td>1</td>\n",
       "    </tr>\n",
       "  </tbody>\n",
       "</table>\n",
       "</div>"
      ],
      "text/plain": [
       "         forecast_date  euros_per_mwh          origin_date  data_block_id\n",
       "0  2021-09-01 00:00:00          92.51  2021-08-31 00:00:00              1\n",
       "1  2021-09-01 01:00:00          88.90  2021-08-31 01:00:00              1\n",
       "2  2021-09-01 02:00:00          87.35  2021-08-31 02:00:00              1\n",
       "3  2021-09-01 03:00:00          86.88  2021-08-31 03:00:00              1\n",
       "4  2021-09-01 04:00:00          88.43  2021-08-31 04:00:00              1"
      ]
     },
     "execution_count": 11,
     "metadata": {},
     "output_type": "execute_result"
    }
   ],
   "source": [
    "electricity_prices.head()"
   ]
  },
  {
   "cell_type": "code",
   "execution_count": 12,
   "metadata": {},
   "outputs": [
    {
     "name": "stdout",
     "output_type": "stream",
     "text": [
      "<class 'pandas.core.frame.DataFrame'>\n",
      "RangeIndex: 15286 entries, 0 to 15285\n",
      "Data columns (total 4 columns):\n",
      " #   Column         Non-Null Count  Dtype  \n",
      "---  ------         --------------  -----  \n",
      " 0   forecast_date  15286 non-null  object \n",
      " 1   euros_per_mwh  15286 non-null  float64\n",
      " 2   origin_date    15286 non-null  object \n",
      " 3   data_block_id  15286 non-null  int64  \n",
      "dtypes: float64(1), int64(1), object(2)\n",
      "memory usage: 477.8+ KB\n"
     ]
    }
   ],
   "source": [
    "electricity_prices.info()\n",
    "# no missing values"
   ]
  },
  {
   "cell_type": "markdown",
   "metadata": {},
   "source": [
    "Forecast date and origin date are objects, let's change to datetime. "
   ]
  },
  {
   "cell_type": "code",
   "execution_count": 13,
   "metadata": {},
   "outputs": [
    {
     "data": {
      "text/plain": [
       "forecast_date    datetime64[ns]\n",
       "euros_per_mwh           float64\n",
       "origin_date      datetime64[ns]\n",
       "data_block_id             int64\n",
       "dtype: object"
      ]
     },
     "execution_count": 13,
     "metadata": {},
     "output_type": "execute_result"
    }
   ],
   "source": [
    "convert_datetime(electricity_prices, 'forecast_date', 'origin_date')"
   ]
  },
  {
   "cell_type": "code",
   "execution_count": 14,
   "metadata": {},
   "outputs": [
    {
     "data": {
      "text/plain": [
       "forecast_date    0\n",
       "euros_per_mwh    0\n",
       "origin_date      0\n",
       "data_block_id    0\n",
       "dtype: int64"
      ]
     },
     "execution_count": 14,
     "metadata": {},
     "output_type": "execute_result"
    }
   ],
   "source": [
    "# good now check no missing values and duplicates\n",
    "electricity_prices.isna().sum()"
   ]
  },
  {
   "cell_type": "code",
   "execution_count": 15,
   "metadata": {},
   "outputs": [
    {
     "data": {
      "text/plain": [
       "0"
      ]
     },
     "execution_count": 15,
     "metadata": {},
     "output_type": "execute_result"
    }
   ],
   "source": [
    "electricity_prices.duplicated().sum()"
   ]
  },
  {
   "cell_type": "code",
   "execution_count": 16,
   "metadata": {},
   "outputs": [
    {
     "data": {
      "text/html": [
       "<div>\n",
       "<style scoped>\n",
       "    .dataframe tbody tr th:only-of-type {\n",
       "        vertical-align: middle;\n",
       "    }\n",
       "\n",
       "    .dataframe tbody tr th {\n",
       "        vertical-align: top;\n",
       "    }\n",
       "\n",
       "    .dataframe thead th {\n",
       "        text-align: right;\n",
       "    }\n",
       "</style>\n",
       "<table border=\"1\" class=\"dataframe\">\n",
       "  <thead>\n",
       "    <tr style=\"text-align: right;\">\n",
       "      <th></th>\n",
       "      <th>euros_per_mwh</th>\n",
       "      <th>data_block_id</th>\n",
       "    </tr>\n",
       "  </thead>\n",
       "  <tbody>\n",
       "    <tr>\n",
       "      <th>count</th>\n",
       "      <td>15286.000000</td>\n",
       "      <td>15286.000000</td>\n",
       "    </tr>\n",
       "    <tr>\n",
       "      <th>mean</th>\n",
       "      <td>157.064176</td>\n",
       "      <td>318.990710</td>\n",
       "    </tr>\n",
       "    <tr>\n",
       "      <th>std</th>\n",
       "      <td>121.148625</td>\n",
       "      <td>183.890301</td>\n",
       "    </tr>\n",
       "    <tr>\n",
       "      <th>min</th>\n",
       "      <td>-10.060000</td>\n",
       "      <td>1.000000</td>\n",
       "    </tr>\n",
       "    <tr>\n",
       "      <th>25%</th>\n",
       "      <td>85.290000</td>\n",
       "      <td>160.000000</td>\n",
       "    </tr>\n",
       "    <tr>\n",
       "      <th>50%</th>\n",
       "      <td>128.280000</td>\n",
       "      <td>319.000000</td>\n",
       "    </tr>\n",
       "    <tr>\n",
       "      <th>75%</th>\n",
       "      <td>199.797500</td>\n",
       "      <td>478.000000</td>\n",
       "    </tr>\n",
       "    <tr>\n",
       "      <th>max</th>\n",
       "      <td>4000.000000</td>\n",
       "      <td>637.000000</td>\n",
       "    </tr>\n",
       "  </tbody>\n",
       "</table>\n",
       "</div>"
      ],
      "text/plain": [
       "       euros_per_mwh  data_block_id\n",
       "count   15286.000000   15286.000000\n",
       "mean      157.064176     318.990710\n",
       "std       121.148625     183.890301\n",
       "min       -10.060000       1.000000\n",
       "25%        85.290000     160.000000\n",
       "50%       128.280000     319.000000\n",
       "75%       199.797500     478.000000\n",
       "max      4000.000000     637.000000"
      ]
     },
     "execution_count": 16,
     "metadata": {},
     "output_type": "execute_result"
    }
   ],
   "source": [
    "# summary stats\n",
    "electricity_prices.describe()"
   ]
  },
  {
   "cell_type": "code",
   "execution_count": 17,
   "metadata": {},
   "outputs": [
    {
     "data": {
      "text/html": [
       "<div>\n",
       "<style scoped>\n",
       "    .dataframe tbody tr th:only-of-type {\n",
       "        vertical-align: middle;\n",
       "    }\n",
       "\n",
       "    .dataframe tbody tr th {\n",
       "        vertical-align: top;\n",
       "    }\n",
       "\n",
       "    .dataframe thead th {\n",
       "        text-align: right;\n",
       "    }\n",
       "</style>\n",
       "<table border=\"1\" class=\"dataframe\">\n",
       "  <thead>\n",
       "    <tr style=\"text-align: right;\">\n",
       "      <th></th>\n",
       "      <th>forecast_date</th>\n",
       "      <th>euros_per_mwh</th>\n",
       "      <th>origin_date</th>\n",
       "      <th>data_block_id</th>\n",
       "    </tr>\n",
       "  </thead>\n",
       "  <tbody>\n",
       "    <tr>\n",
       "      <th>0</th>\n",
       "      <td>2021-09-01 00:00:00</td>\n",
       "      <td>92.51</td>\n",
       "      <td>2021-08-31 00:00:00</td>\n",
       "      <td>1</td>\n",
       "    </tr>\n",
       "    <tr>\n",
       "      <th>1</th>\n",
       "      <td>2021-09-01 01:00:00</td>\n",
       "      <td>88.90</td>\n",
       "      <td>2021-08-31 01:00:00</td>\n",
       "      <td>1</td>\n",
       "    </tr>\n",
       "    <tr>\n",
       "      <th>2</th>\n",
       "      <td>2021-09-01 02:00:00</td>\n",
       "      <td>87.35</td>\n",
       "      <td>2021-08-31 02:00:00</td>\n",
       "      <td>1</td>\n",
       "    </tr>\n",
       "    <tr>\n",
       "      <th>3</th>\n",
       "      <td>2021-09-01 03:00:00</td>\n",
       "      <td>86.88</td>\n",
       "      <td>2021-08-31 03:00:00</td>\n",
       "      <td>1</td>\n",
       "    </tr>\n",
       "    <tr>\n",
       "      <th>4</th>\n",
       "      <td>2021-09-01 04:00:00</td>\n",
       "      <td>88.43</td>\n",
       "      <td>2021-08-31 04:00:00</td>\n",
       "      <td>1</td>\n",
       "    </tr>\n",
       "  </tbody>\n",
       "</table>\n",
       "</div>"
      ],
      "text/plain": [
       "        forecast_date  euros_per_mwh         origin_date  data_block_id\n",
       "0 2021-09-01 00:00:00          92.51 2021-08-31 00:00:00              1\n",
       "1 2021-09-01 01:00:00          88.90 2021-08-31 01:00:00              1\n",
       "2 2021-09-01 02:00:00          87.35 2021-08-31 02:00:00              1\n",
       "3 2021-09-01 03:00:00          86.88 2021-08-31 03:00:00              1\n",
       "4 2021-09-01 04:00:00          88.43 2021-08-31 04:00:00              1"
      ]
     },
     "execution_count": 17,
     "metadata": {},
     "output_type": "execute_result"
    }
   ],
   "source": [
    "electricity_prices.head()"
   ]
  },
  {
   "cell_type": "markdown",
   "metadata": {},
   "source": [
    "To explore: \n",
    "1. forecast date vs euros per mwh"
   ]
  },
  {
   "cell_type": "code",
   "execution_count": null,
   "metadata": {},
   "outputs": [],
   "source": []
  },
  {
   "cell_type": "markdown",
   "metadata": {},
   "source": [
    "##### File #4:  forecast_weather\n",
    "<hr style=\"border:2px solid pink\">"
   ]
  },
  {
   "cell_type": "code",
   "execution_count": 18,
   "metadata": {},
   "outputs": [
    {
     "data": {
      "text/html": [
       "<div>\n",
       "<style scoped>\n",
       "    .dataframe tbody tr th:only-of-type {\n",
       "        vertical-align: middle;\n",
       "    }\n",
       "\n",
       "    .dataframe tbody tr th {\n",
       "        vertical-align: top;\n",
       "    }\n",
       "\n",
       "    .dataframe thead th {\n",
       "        text-align: right;\n",
       "    }\n",
       "</style>\n",
       "<table border=\"1\" class=\"dataframe\">\n",
       "  <thead>\n",
       "    <tr style=\"text-align: right;\">\n",
       "      <th></th>\n",
       "      <th>latitude</th>\n",
       "      <th>longitude</th>\n",
       "      <th>origin_datetime</th>\n",
       "      <th>hours_ahead</th>\n",
       "      <th>temperature</th>\n",
       "      <th>dewpoint</th>\n",
       "      <th>cloudcover_high</th>\n",
       "      <th>cloudcover_low</th>\n",
       "      <th>cloudcover_mid</th>\n",
       "      <th>cloudcover_total</th>\n",
       "      <th>10_metre_u_wind_component</th>\n",
       "      <th>10_metre_v_wind_component</th>\n",
       "      <th>data_block_id</th>\n",
       "      <th>forecast_datetime</th>\n",
       "      <th>direct_solar_radiation</th>\n",
       "      <th>surface_solar_radiation_downwards</th>\n",
       "      <th>snowfall</th>\n",
       "      <th>total_precipitation</th>\n",
       "    </tr>\n",
       "  </thead>\n",
       "  <tbody>\n",
       "    <tr>\n",
       "      <th>0</th>\n",
       "      <td>57.6</td>\n",
       "      <td>21.7</td>\n",
       "      <td>2021-09-01 02:00:00</td>\n",
       "      <td>1</td>\n",
       "      <td>15.655786</td>\n",
       "      <td>11.553613</td>\n",
       "      <td>0.904816</td>\n",
       "      <td>0.019714</td>\n",
       "      <td>0.000000</td>\n",
       "      <td>0.905899</td>\n",
       "      <td>-0.411328</td>\n",
       "      <td>-9.106137</td>\n",
       "      <td>1</td>\n",
       "      <td>2021-09-01 03:00:00</td>\n",
       "      <td>0.0</td>\n",
       "      <td>0.0</td>\n",
       "      <td>0.0</td>\n",
       "      <td>0.0</td>\n",
       "    </tr>\n",
       "    <tr>\n",
       "      <th>1</th>\n",
       "      <td>57.6</td>\n",
       "      <td>22.2</td>\n",
       "      <td>2021-09-01 02:00:00</td>\n",
       "      <td>1</td>\n",
       "      <td>13.003931</td>\n",
       "      <td>10.689844</td>\n",
       "      <td>0.886322</td>\n",
       "      <td>0.004456</td>\n",
       "      <td>0.000000</td>\n",
       "      <td>0.886658</td>\n",
       "      <td>0.206347</td>\n",
       "      <td>-5.355405</td>\n",
       "      <td>1</td>\n",
       "      <td>2021-09-01 03:00:00</td>\n",
       "      <td>0.0</td>\n",
       "      <td>0.0</td>\n",
       "      <td>0.0</td>\n",
       "      <td>0.0</td>\n",
       "    </tr>\n",
       "    <tr>\n",
       "      <th>2</th>\n",
       "      <td>57.6</td>\n",
       "      <td>22.7</td>\n",
       "      <td>2021-09-01 02:00:00</td>\n",
       "      <td>1</td>\n",
       "      <td>14.206567</td>\n",
       "      <td>11.671777</td>\n",
       "      <td>0.729034</td>\n",
       "      <td>0.005615</td>\n",
       "      <td>0.000000</td>\n",
       "      <td>0.730499</td>\n",
       "      <td>1.451587</td>\n",
       "      <td>-7.417905</td>\n",
       "      <td>1</td>\n",
       "      <td>2021-09-01 03:00:00</td>\n",
       "      <td>0.0</td>\n",
       "      <td>0.0</td>\n",
       "      <td>0.0</td>\n",
       "      <td>0.0</td>\n",
       "    </tr>\n",
       "    <tr>\n",
       "      <th>3</th>\n",
       "      <td>57.6</td>\n",
       "      <td>23.2</td>\n",
       "      <td>2021-09-01 02:00:00</td>\n",
       "      <td>1</td>\n",
       "      <td>14.844507</td>\n",
       "      <td>12.264917</td>\n",
       "      <td>0.336304</td>\n",
       "      <td>0.074341</td>\n",
       "      <td>0.000626</td>\n",
       "      <td>0.385468</td>\n",
       "      <td>1.090869</td>\n",
       "      <td>-9.163999</td>\n",
       "      <td>1</td>\n",
       "      <td>2021-09-01 03:00:00</td>\n",
       "      <td>0.0</td>\n",
       "      <td>0.0</td>\n",
       "      <td>0.0</td>\n",
       "      <td>0.0</td>\n",
       "    </tr>\n",
       "    <tr>\n",
       "      <th>4</th>\n",
       "      <td>57.6</td>\n",
       "      <td>23.7</td>\n",
       "      <td>2021-09-01 02:00:00</td>\n",
       "      <td>1</td>\n",
       "      <td>15.293848</td>\n",
       "      <td>12.458887</td>\n",
       "      <td>0.102875</td>\n",
       "      <td>0.088074</td>\n",
       "      <td>0.000015</td>\n",
       "      <td>0.176590</td>\n",
       "      <td>1.268481</td>\n",
       "      <td>-8.975766</td>\n",
       "      <td>1</td>\n",
       "      <td>2021-09-01 03:00:00</td>\n",
       "      <td>0.0</td>\n",
       "      <td>0.0</td>\n",
       "      <td>0.0</td>\n",
       "      <td>0.0</td>\n",
       "    </tr>\n",
       "  </tbody>\n",
       "</table>\n",
       "</div>"
      ],
      "text/plain": [
       "   latitude  longitude      origin_datetime  hours_ahead  temperature  \\\n",
       "0      57.6       21.7  2021-09-01 02:00:00            1    15.655786   \n",
       "1      57.6       22.2  2021-09-01 02:00:00            1    13.003931   \n",
       "2      57.6       22.7  2021-09-01 02:00:00            1    14.206567   \n",
       "3      57.6       23.2  2021-09-01 02:00:00            1    14.844507   \n",
       "4      57.6       23.7  2021-09-01 02:00:00            1    15.293848   \n",
       "\n",
       "    dewpoint  cloudcover_high  cloudcover_low  cloudcover_mid  \\\n",
       "0  11.553613         0.904816        0.019714        0.000000   \n",
       "1  10.689844         0.886322        0.004456        0.000000   \n",
       "2  11.671777         0.729034        0.005615        0.000000   \n",
       "3  12.264917         0.336304        0.074341        0.000626   \n",
       "4  12.458887         0.102875        0.088074        0.000015   \n",
       "\n",
       "   cloudcover_total  10_metre_u_wind_component  10_metre_v_wind_component  \\\n",
       "0          0.905899                  -0.411328                  -9.106137   \n",
       "1          0.886658                   0.206347                  -5.355405   \n",
       "2          0.730499                   1.451587                  -7.417905   \n",
       "3          0.385468                   1.090869                  -9.163999   \n",
       "4          0.176590                   1.268481                  -8.975766   \n",
       "\n",
       "   data_block_id    forecast_datetime  direct_solar_radiation  \\\n",
       "0              1  2021-09-01 03:00:00                     0.0   \n",
       "1              1  2021-09-01 03:00:00                     0.0   \n",
       "2              1  2021-09-01 03:00:00                     0.0   \n",
       "3              1  2021-09-01 03:00:00                     0.0   \n",
       "4              1  2021-09-01 03:00:00                     0.0   \n",
       "\n",
       "   surface_solar_radiation_downwards  snowfall  total_precipitation  \n",
       "0                                0.0       0.0                  0.0  \n",
       "1                                0.0       0.0                  0.0  \n",
       "2                                0.0       0.0                  0.0  \n",
       "3                                0.0       0.0                  0.0  \n",
       "4                                0.0       0.0                  0.0  "
      ]
     },
     "execution_count": 18,
     "metadata": {},
     "output_type": "execute_result"
    }
   ],
   "source": [
    "forecast_weather.head()"
   ]
  },
  {
   "cell_type": "code",
   "execution_count": 19,
   "metadata": {},
   "outputs": [
    {
     "name": "stdout",
     "output_type": "stream",
     "text": [
      "<class 'pandas.core.frame.DataFrame'>\n",
      "RangeIndex: 3424512 entries, 0 to 3424511\n",
      "Data columns (total 18 columns):\n",
      " #   Column                             Dtype  \n",
      "---  ------                             -----  \n",
      " 0   latitude                           float64\n",
      " 1   longitude                          float64\n",
      " 2   origin_datetime                    object \n",
      " 3   hours_ahead                        int64  \n",
      " 4   temperature                        float64\n",
      " 5   dewpoint                           float64\n",
      " 6   cloudcover_high                    float64\n",
      " 7   cloudcover_low                     float64\n",
      " 8   cloudcover_mid                     float64\n",
      " 9   cloudcover_total                   float64\n",
      " 10  10_metre_u_wind_component          float64\n",
      " 11  10_metre_v_wind_component          float64\n",
      " 12  data_block_id                      int64  \n",
      " 13  forecast_datetime                  object \n",
      " 14  direct_solar_radiation             float64\n",
      " 15  surface_solar_radiation_downwards  float64\n",
      " 16  snowfall                           float64\n",
      " 17  total_precipitation                float64\n",
      "dtypes: float64(14), int64(2), object(2)\n",
      "memory usage: 470.3+ MB\n"
     ]
    }
   ],
   "source": [
    "forecast_weather.info()"
   ]
  },
  {
   "cell_type": "code",
   "execution_count": 20,
   "metadata": {},
   "outputs": [
    {
     "data": {
      "text/plain": [
       "latitude                                    float64\n",
       "longitude                                   float64\n",
       "origin_datetime                      datetime64[ns]\n",
       "hours_ahead                                   int64\n",
       "temperature                                 float64\n",
       "dewpoint                                    float64\n",
       "cloudcover_high                             float64\n",
       "cloudcover_low                              float64\n",
       "cloudcover_mid                              float64\n",
       "cloudcover_total                            float64\n",
       "10_metre_u_wind_component                   float64\n",
       "10_metre_v_wind_component                   float64\n",
       "data_block_id                                 int64\n",
       "forecast_datetime                    datetime64[ns]\n",
       "direct_solar_radiation                      float64\n",
       "surface_solar_radiation_downwards           float64\n",
       "snowfall                                    float64\n",
       "total_precipitation                         float64\n",
       "dtype: object"
      ]
     },
     "execution_count": 20,
     "metadata": {},
     "output_type": "execute_result"
    }
   ],
   "source": [
    "convert_datetime(forecast_weather, 'origin_datetime', 'forecast_datetime')"
   ]
  },
  {
   "cell_type": "code",
   "execution_count": 21,
   "metadata": {},
   "outputs": [
    {
     "data": {
      "text/plain": [
       "latitude                             0\n",
       "longitude                            0\n",
       "origin_datetime                      0\n",
       "hours_ahead                          0\n",
       "temperature                          0\n",
       "dewpoint                             0\n",
       "cloudcover_high                      0\n",
       "cloudcover_low                       0\n",
       "cloudcover_mid                       0\n",
       "cloudcover_total                     0\n",
       "10_metre_u_wind_component            0\n",
       "10_metre_v_wind_component            0\n",
       "data_block_id                        0\n",
       "forecast_datetime                    0\n",
       "direct_solar_radiation               0\n",
       "surface_solar_radiation_downwards    2\n",
       "snowfall                             0\n",
       "total_precipitation                  0\n",
       "dtype: int64"
      ]
     },
     "execution_count": 21,
     "metadata": {},
     "output_type": "execute_result"
    }
   ],
   "source": [
    "# check for N/A\n",
    "forecast_weather.isna().sum()"
   ]
  },
  {
   "cell_type": "code",
   "execution_count": 22,
   "metadata": {},
   "outputs": [
    {
     "data": {
      "text/plain": [
       "2"
      ]
     },
     "execution_count": 22,
     "metadata": {},
     "output_type": "execute_result"
    }
   ],
   "source": [
    "# 2 missing values in surface solar radiation downwards. \n",
    "# 3 million rows, let's drop the missing values\n",
    "forecast_weather['surface_solar_radiation_downwards'].isna().sum()"
   ]
  },
  {
   "cell_type": "code",
   "execution_count": 23,
   "metadata": {
    "scrolled": true
   },
   "outputs": [],
   "source": [
    "forecast_weather.dropna(inplace=True)"
   ]
  },
  {
   "cell_type": "code",
   "execution_count": 24,
   "metadata": {},
   "outputs": [
    {
     "data": {
      "text/plain": [
       "latitude                             0\n",
       "longitude                            0\n",
       "origin_datetime                      0\n",
       "hours_ahead                          0\n",
       "temperature                          0\n",
       "dewpoint                             0\n",
       "cloudcover_high                      0\n",
       "cloudcover_low                       0\n",
       "cloudcover_mid                       0\n",
       "cloudcover_total                     0\n",
       "10_metre_u_wind_component            0\n",
       "10_metre_v_wind_component            0\n",
       "data_block_id                        0\n",
       "forecast_datetime                    0\n",
       "direct_solar_radiation               0\n",
       "surface_solar_radiation_downwards    0\n",
       "snowfall                             0\n",
       "total_precipitation                  0\n",
       "dtype: int64"
      ]
     },
     "execution_count": 24,
     "metadata": {},
     "output_type": "execute_result"
    }
   ],
   "source": [
    "# no more missing values\n",
    "forecast_weather.isna().sum()"
   ]
  },
  {
   "cell_type": "code",
   "execution_count": 25,
   "metadata": {},
   "outputs": [
    {
     "data": {
      "text/plain": [
       "0"
      ]
     },
     "execution_count": 25,
     "metadata": {},
     "output_type": "execute_result"
    }
   ],
   "source": [
    "# no duplicated values\n",
    "forecast_weather.duplicated().sum()"
   ]
  },
  {
   "cell_type": "code",
   "execution_count": 26,
   "metadata": {},
   "outputs": [
    {
     "data": {
      "text/html": [
       "<div>\n",
       "<style scoped>\n",
       "    .dataframe tbody tr th:only-of-type {\n",
       "        vertical-align: middle;\n",
       "    }\n",
       "\n",
       "    .dataframe tbody tr th {\n",
       "        vertical-align: top;\n",
       "    }\n",
       "\n",
       "    .dataframe thead th {\n",
       "        text-align: right;\n",
       "    }\n",
       "</style>\n",
       "<table border=\"1\" class=\"dataframe\">\n",
       "  <thead>\n",
       "    <tr style=\"text-align: right;\">\n",
       "      <th></th>\n",
       "      <th>latitude</th>\n",
       "      <th>longitude</th>\n",
       "      <th>hours_ahead</th>\n",
       "      <th>temperature</th>\n",
       "      <th>dewpoint</th>\n",
       "      <th>cloudcover_high</th>\n",
       "      <th>cloudcover_low</th>\n",
       "      <th>cloudcover_mid</th>\n",
       "      <th>cloudcover_total</th>\n",
       "      <th>10_metre_u_wind_component</th>\n",
       "      <th>10_metre_v_wind_component</th>\n",
       "      <th>data_block_id</th>\n",
       "      <th>direct_solar_radiation</th>\n",
       "      <th>surface_solar_radiation_downwards</th>\n",
       "      <th>snowfall</th>\n",
       "      <th>total_precipitation</th>\n",
       "    </tr>\n",
       "  </thead>\n",
       "  <tbody>\n",
       "    <tr>\n",
       "      <th>count</th>\n",
       "      <td>3.424510e+06</td>\n",
       "      <td>3.424510e+06</td>\n",
       "      <td>3.424510e+06</td>\n",
       "      <td>3.424510e+06</td>\n",
       "      <td>3.424510e+06</td>\n",
       "      <td>3.424510e+06</td>\n",
       "      <td>3.424510e+06</td>\n",
       "      <td>3.424510e+06</td>\n",
       "      <td>3.424510e+06</td>\n",
       "      <td>3.424510e+06</td>\n",
       "      <td>3.424510e+06</td>\n",
       "      <td>3.424510e+06</td>\n",
       "      <td>3.424510e+06</td>\n",
       "      <td>3.424510e+06</td>\n",
       "      <td>3.424510e+06</td>\n",
       "      <td>3.424510e+06</td>\n",
       "    </tr>\n",
       "    <tr>\n",
       "      <th>mean</th>\n",
       "      <td>5.865000e+01</td>\n",
       "      <td>2.495000e+01</td>\n",
       "      <td>2.450001e+01</td>\n",
       "      <td>5.743905e+00</td>\n",
       "      <td>2.411938e+00</td>\n",
       "      <td>3.946651e-01</td>\n",
       "      <td>4.346456e-01</td>\n",
       "      <td>3.590696e-01</td>\n",
       "      <td>6.819926e-01</td>\n",
       "      <td>1.255444e+00</td>\n",
       "      <td>7.250068e-01</td>\n",
       "      <td>3.190000e+02</td>\n",
       "      <td>1.511882e+02</td>\n",
       "      <td>1.107642e+02</td>\n",
       "      <td>2.533924e-05</td>\n",
       "      <td>7.863864e-05</td>\n",
       "    </tr>\n",
       "    <tr>\n",
       "      <th>std</th>\n",
       "      <td>6.873862e-01</td>\n",
       "      <td>2.015565e+00</td>\n",
       "      <td>1.385340e+01</td>\n",
       "      <td>7.844201e+00</td>\n",
       "      <td>7.121425e+00</td>\n",
       "      <td>4.440425e-01</td>\n",
       "      <td>4.386346e-01</td>\n",
       "      <td>4.201556e-01</td>\n",
       "      <td>4.009630e-01</td>\n",
       "      <td>3.995300e+00</td>\n",
       "      <td>4.223749e+00</td>\n",
       "      <td>1.838859e+02</td>\n",
       "      <td>2.565070e+02</td>\n",
       "      <td>1.874444e+02</td>\n",
       "      <td>1.222840e-04</td>\n",
       "      <td>2.780880e-04</td>\n",
       "    </tr>\n",
       "    <tr>\n",
       "      <th>min</th>\n",
       "      <td>5.760000e+01</td>\n",
       "      <td>2.170000e+01</td>\n",
       "      <td>1.000000e+00</td>\n",
       "      <td>-2.749940e+01</td>\n",
       "      <td>-2.968357e+01</td>\n",
       "      <td>0.000000e+00</td>\n",
       "      <td>0.000000e+00</td>\n",
       "      <td>0.000000e+00</td>\n",
       "      <td>0.000000e+00</td>\n",
       "      <td>-1.757718e+01</td>\n",
       "      <td>-2.211612e+01</td>\n",
       "      <td>1.000000e+00</td>\n",
       "      <td>-7.733333e-01</td>\n",
       "      <td>-3.258333e-01</td>\n",
       "      <td>-3.814697e-06</td>\n",
       "      <td>-1.529098e-05</td>\n",
       "    </tr>\n",
       "    <tr>\n",
       "      <th>25%</th>\n",
       "      <td>5.797500e+01</td>\n",
       "      <td>2.320000e+01</td>\n",
       "      <td>1.300000e+01</td>\n",
       "      <td>2.606445e-01</td>\n",
       "      <td>-2.364355e+00</td>\n",
       "      <td>0.000000e+00</td>\n",
       "      <td>3.356934e-04</td>\n",
       "      <td>0.000000e+00</td>\n",
       "      <td>2.648926e-01</td>\n",
       "      <td>-1.466692e+00</td>\n",
       "      <td>-1.978116e+00</td>\n",
       "      <td>1.600000e+02</td>\n",
       "      <td>0.000000e+00</td>\n",
       "      <td>0.000000e+00</td>\n",
       "      <td>0.000000e+00</td>\n",
       "      <td>0.000000e+00</td>\n",
       "    </tr>\n",
       "    <tr>\n",
       "      <th>50%</th>\n",
       "      <td>5.850000e+01</td>\n",
       "      <td>2.520000e+01</td>\n",
       "      <td>2.500000e+01</td>\n",
       "      <td>4.872705e+00</td>\n",
       "      <td>1.835596e+00</td>\n",
       "      <td>8.866882e-02</td>\n",
       "      <td>2.305491e-01</td>\n",
       "      <td>1.011963e-01</td>\n",
       "      <td>9.772680e-01</td>\n",
       "      <td>1.468679e+00</td>\n",
       "      <td>9.433179e-01</td>\n",
       "      <td>3.190000e+02</td>\n",
       "      <td>0.000000e+00</td>\n",
       "      <td>6.044444e-01</td>\n",
       "      <td>0.000000e+00</td>\n",
       "      <td>0.000000e+00</td>\n",
       "    </tr>\n",
       "    <tr>\n",
       "      <th>75%</th>\n",
       "      <td>5.910000e+01</td>\n",
       "      <td>2.670000e+01</td>\n",
       "      <td>3.675000e+01</td>\n",
       "      <td>1.114639e+01</td>\n",
       "      <td>7.302026e+00</td>\n",
       "      <td>9.784851e-01</td>\n",
       "      <td>9.994587e-01</td>\n",
       "      <td>9.000854e-01</td>\n",
       "      <td>1.000000e+00</td>\n",
       "      <td>3.813527e+00</td>\n",
       "      <td>3.507623e+00</td>\n",
       "      <td>4.780000e+02</td>\n",
       "      <td>2.128451e+02</td>\n",
       "      <td>1.441723e+02</td>\n",
       "      <td>0.000000e+00</td>\n",
       "      <td>2.765656e-05</td>\n",
       "    </tr>\n",
       "    <tr>\n",
       "      <th>max</th>\n",
       "      <td>5.970000e+01</td>\n",
       "      <td>2.820000e+01</td>\n",
       "      <td>4.800000e+01</td>\n",
       "      <td>3.181069e+01</td>\n",
       "      <td>2.368057e+01</td>\n",
       "      <td>1.000008e+00</td>\n",
       "      <td>1.000008e+00</td>\n",
       "      <td>1.000008e+00</td>\n",
       "      <td>1.000008e+00</td>\n",
       "      <td>2.257320e+01</td>\n",
       "      <td>1.931437e+01</td>\n",
       "      <td>6.370000e+02</td>\n",
       "      <td>9.544222e+02</td>\n",
       "      <td>8.487144e+02</td>\n",
       "      <td>4.832983e-03</td>\n",
       "      <td>1.651621e-02</td>\n",
       "    </tr>\n",
       "  </tbody>\n",
       "</table>\n",
       "</div>"
      ],
      "text/plain": [
       "           latitude     longitude   hours_ahead   temperature      dewpoint  \\\n",
       "count  3.424510e+06  3.424510e+06  3.424510e+06  3.424510e+06  3.424510e+06   \n",
       "mean   5.865000e+01  2.495000e+01  2.450001e+01  5.743905e+00  2.411938e+00   \n",
       "std    6.873862e-01  2.015565e+00  1.385340e+01  7.844201e+00  7.121425e+00   \n",
       "min    5.760000e+01  2.170000e+01  1.000000e+00 -2.749940e+01 -2.968357e+01   \n",
       "25%    5.797500e+01  2.320000e+01  1.300000e+01  2.606445e-01 -2.364355e+00   \n",
       "50%    5.850000e+01  2.520000e+01  2.500000e+01  4.872705e+00  1.835596e+00   \n",
       "75%    5.910000e+01  2.670000e+01  3.675000e+01  1.114639e+01  7.302026e+00   \n",
       "max    5.970000e+01  2.820000e+01  4.800000e+01  3.181069e+01  2.368057e+01   \n",
       "\n",
       "       cloudcover_high  cloudcover_low  cloudcover_mid  cloudcover_total  \\\n",
       "count     3.424510e+06    3.424510e+06    3.424510e+06      3.424510e+06   \n",
       "mean      3.946651e-01    4.346456e-01    3.590696e-01      6.819926e-01   \n",
       "std       4.440425e-01    4.386346e-01    4.201556e-01      4.009630e-01   \n",
       "min       0.000000e+00    0.000000e+00    0.000000e+00      0.000000e+00   \n",
       "25%       0.000000e+00    3.356934e-04    0.000000e+00      2.648926e-01   \n",
       "50%       8.866882e-02    2.305491e-01    1.011963e-01      9.772680e-01   \n",
       "75%       9.784851e-01    9.994587e-01    9.000854e-01      1.000000e+00   \n",
       "max       1.000008e+00    1.000008e+00    1.000008e+00      1.000008e+00   \n",
       "\n",
       "       10_metre_u_wind_component  10_metre_v_wind_component  data_block_id  \\\n",
       "count               3.424510e+06               3.424510e+06   3.424510e+06   \n",
       "mean                1.255444e+00               7.250068e-01   3.190000e+02   \n",
       "std                 3.995300e+00               4.223749e+00   1.838859e+02   \n",
       "min                -1.757718e+01              -2.211612e+01   1.000000e+00   \n",
       "25%                -1.466692e+00              -1.978116e+00   1.600000e+02   \n",
       "50%                 1.468679e+00               9.433179e-01   3.190000e+02   \n",
       "75%                 3.813527e+00               3.507623e+00   4.780000e+02   \n",
       "max                 2.257320e+01               1.931437e+01   6.370000e+02   \n",
       "\n",
       "       direct_solar_radiation  surface_solar_radiation_downwards  \\\n",
       "count            3.424510e+06                       3.424510e+06   \n",
       "mean             1.511882e+02                       1.107642e+02   \n",
       "std              2.565070e+02                       1.874444e+02   \n",
       "min             -7.733333e-01                      -3.258333e-01   \n",
       "25%              0.000000e+00                       0.000000e+00   \n",
       "50%              0.000000e+00                       6.044444e-01   \n",
       "75%              2.128451e+02                       1.441723e+02   \n",
       "max              9.544222e+02                       8.487144e+02   \n",
       "\n",
       "           snowfall  total_precipitation  \n",
       "count  3.424510e+06         3.424510e+06  \n",
       "mean   2.533924e-05         7.863864e-05  \n",
       "std    1.222840e-04         2.780880e-04  \n",
       "min   -3.814697e-06        -1.529098e-05  \n",
       "25%    0.000000e+00         0.000000e+00  \n",
       "50%    0.000000e+00         0.000000e+00  \n",
       "75%    0.000000e+00         2.765656e-05  \n",
       "max    4.832983e-03         1.651621e-02  "
      ]
     },
     "execution_count": 26,
     "metadata": {},
     "output_type": "execute_result"
    }
   ],
   "source": [
    "# summary stats\n",
    "forecast_weather.describe()"
   ]
  },
  {
   "cell_type": "markdown",
   "metadata": {},
   "source": [
    "Visualizations here: there's a lot that can be compared"
   ]
  },
  {
   "cell_type": "code",
   "execution_count": null,
   "metadata": {},
   "outputs": [],
   "source": []
  },
  {
   "cell_type": "code",
   "execution_count": null,
   "metadata": {},
   "outputs": [],
   "source": []
  },
  {
   "cell_type": "markdown",
   "metadata": {},
   "source": [
    "##### File #5: gas_prices\n",
    "<hr style=\"border:2px solid pink\">"
   ]
  },
  {
   "cell_type": "code",
   "execution_count": 27,
   "metadata": {},
   "outputs": [
    {
     "data": {
      "text/html": [
       "<div>\n",
       "<style scoped>\n",
       "    .dataframe tbody tr th:only-of-type {\n",
       "        vertical-align: middle;\n",
       "    }\n",
       "\n",
       "    .dataframe tbody tr th {\n",
       "        vertical-align: top;\n",
       "    }\n",
       "\n",
       "    .dataframe thead th {\n",
       "        text-align: right;\n",
       "    }\n",
       "</style>\n",
       "<table border=\"1\" class=\"dataframe\">\n",
       "  <thead>\n",
       "    <tr style=\"text-align: right;\">\n",
       "      <th></th>\n",
       "      <th>forecast_date</th>\n",
       "      <th>lowest_price_per_mwh</th>\n",
       "      <th>highest_price_per_mwh</th>\n",
       "      <th>origin_date</th>\n",
       "      <th>data_block_id</th>\n",
       "    </tr>\n",
       "  </thead>\n",
       "  <tbody>\n",
       "    <tr>\n",
       "      <th>0</th>\n",
       "      <td>2021-09-01</td>\n",
       "      <td>45.23</td>\n",
       "      <td>46.32</td>\n",
       "      <td>2021-08-31</td>\n",
       "      <td>1</td>\n",
       "    </tr>\n",
       "    <tr>\n",
       "      <th>1</th>\n",
       "      <td>2021-09-02</td>\n",
       "      <td>45.62</td>\n",
       "      <td>46.29</td>\n",
       "      <td>2021-09-01</td>\n",
       "      <td>2</td>\n",
       "    </tr>\n",
       "    <tr>\n",
       "      <th>2</th>\n",
       "      <td>2021-09-03</td>\n",
       "      <td>45.85</td>\n",
       "      <td>46.40</td>\n",
       "      <td>2021-09-02</td>\n",
       "      <td>3</td>\n",
       "    </tr>\n",
       "    <tr>\n",
       "      <th>3</th>\n",
       "      <td>2021-09-04</td>\n",
       "      <td>46.30</td>\n",
       "      <td>46.80</td>\n",
       "      <td>2021-09-03</td>\n",
       "      <td>4</td>\n",
       "    </tr>\n",
       "    <tr>\n",
       "      <th>4</th>\n",
       "      <td>2021-09-05</td>\n",
       "      <td>46.30</td>\n",
       "      <td>46.58</td>\n",
       "      <td>2021-09-04</td>\n",
       "      <td>5</td>\n",
       "    </tr>\n",
       "  </tbody>\n",
       "</table>\n",
       "</div>"
      ],
      "text/plain": [
       "  forecast_date  lowest_price_per_mwh  highest_price_per_mwh origin_date  \\\n",
       "0    2021-09-01                 45.23                  46.32  2021-08-31   \n",
       "1    2021-09-02                 45.62                  46.29  2021-09-01   \n",
       "2    2021-09-03                 45.85                  46.40  2021-09-02   \n",
       "3    2021-09-04                 46.30                  46.80  2021-09-03   \n",
       "4    2021-09-05                 46.30                  46.58  2021-09-04   \n",
       "\n",
       "   data_block_id  \n",
       "0              1  \n",
       "1              2  \n",
       "2              3  \n",
       "3              4  \n",
       "4              5  "
      ]
     },
     "execution_count": 27,
     "metadata": {},
     "output_type": "execute_result"
    }
   ],
   "source": [
    "gas_prices.head()"
   ]
  },
  {
   "cell_type": "code",
   "execution_count": 28,
   "metadata": {},
   "outputs": [
    {
     "name": "stdout",
     "output_type": "stream",
     "text": [
      "<class 'pandas.core.frame.DataFrame'>\n",
      "RangeIndex: 637 entries, 0 to 636\n",
      "Data columns (total 5 columns):\n",
      " #   Column                 Non-Null Count  Dtype  \n",
      "---  ------                 --------------  -----  \n",
      " 0   forecast_date          637 non-null    object \n",
      " 1   lowest_price_per_mwh   637 non-null    float64\n",
      " 2   highest_price_per_mwh  637 non-null    float64\n",
      " 3   origin_date            637 non-null    object \n",
      " 4   data_block_id          637 non-null    int64  \n",
      "dtypes: float64(2), int64(1), object(2)\n",
      "memory usage: 25.0+ KB\n"
     ]
    }
   ],
   "source": [
    "gas_prices.info()"
   ]
  },
  {
   "cell_type": "code",
   "execution_count": 29,
   "metadata": {},
   "outputs": [
    {
     "data": {
      "text/plain": [
       "forecast_date            datetime64[ns]\n",
       "lowest_price_per_mwh            float64\n",
       "highest_price_per_mwh           float64\n",
       "origin_date              datetime64[ns]\n",
       "data_block_id                     int64\n",
       "dtype: object"
      ]
     },
     "execution_count": 29,
     "metadata": {},
     "output_type": "execute_result"
    }
   ],
   "source": [
    "convert_datetime(gas_prices, 'forecast_date', 'origin_date')"
   ]
  },
  {
   "cell_type": "code",
   "execution_count": 30,
   "metadata": {},
   "outputs": [
    {
     "data": {
      "text/plain": [
       "forecast_date            0\n",
       "lowest_price_per_mwh     0\n",
       "highest_price_per_mwh    0\n",
       "origin_date              0\n",
       "data_block_id            0\n",
       "dtype: int64"
      ]
     },
     "execution_count": 30,
     "metadata": {},
     "output_type": "execute_result"
    }
   ],
   "source": [
    "# no missing prices or duplicates\n",
    "gas_prices.isna().sum()"
   ]
  },
  {
   "cell_type": "code",
   "execution_count": 31,
   "metadata": {},
   "outputs": [
    {
     "data": {
      "text/plain": [
       "0"
      ]
     },
     "execution_count": 31,
     "metadata": {},
     "output_type": "execute_result"
    }
   ],
   "source": [
    "gas_prices.duplicated().sum()"
   ]
  },
  {
   "cell_type": "code",
   "execution_count": 32,
   "metadata": {},
   "outputs": [
    {
     "data": {
      "text/html": [
       "<div>\n",
       "<style scoped>\n",
       "    .dataframe tbody tr th:only-of-type {\n",
       "        vertical-align: middle;\n",
       "    }\n",
       "\n",
       "    .dataframe tbody tr th {\n",
       "        vertical-align: top;\n",
       "    }\n",
       "\n",
       "    .dataframe thead th {\n",
       "        text-align: right;\n",
       "    }\n",
       "</style>\n",
       "<table border=\"1\" class=\"dataframe\">\n",
       "  <thead>\n",
       "    <tr style=\"text-align: right;\">\n",
       "      <th></th>\n",
       "      <th>lowest_price_per_mwh</th>\n",
       "      <th>highest_price_per_mwh</th>\n",
       "      <th>data_block_id</th>\n",
       "    </tr>\n",
       "  </thead>\n",
       "  <tbody>\n",
       "    <tr>\n",
       "      <th>count</th>\n",
       "      <td>637.000000</td>\n",
       "      <td>637.000000</td>\n",
       "      <td>637.000000</td>\n",
       "    </tr>\n",
       "    <tr>\n",
       "      <th>mean</th>\n",
       "      <td>95.036750</td>\n",
       "      <td>107.754631</td>\n",
       "      <td>319.000000</td>\n",
       "    </tr>\n",
       "    <tr>\n",
       "      <th>std</th>\n",
       "      <td>47.552295</td>\n",
       "      <td>54.743666</td>\n",
       "      <td>184.030342</td>\n",
       "    </tr>\n",
       "    <tr>\n",
       "      <th>min</th>\n",
       "      <td>28.100000</td>\n",
       "      <td>34.000000</td>\n",
       "      <td>1.000000</td>\n",
       "    </tr>\n",
       "    <tr>\n",
       "      <th>25%</th>\n",
       "      <td>60.000000</td>\n",
       "      <td>67.530000</td>\n",
       "      <td>160.000000</td>\n",
       "    </tr>\n",
       "    <tr>\n",
       "      <th>50%</th>\n",
       "      <td>85.210000</td>\n",
       "      <td>93.470000</td>\n",
       "      <td>319.000000</td>\n",
       "    </tr>\n",
       "    <tr>\n",
       "      <th>75%</th>\n",
       "      <td>109.000000</td>\n",
       "      <td>130.740000</td>\n",
       "      <td>478.000000</td>\n",
       "    </tr>\n",
       "    <tr>\n",
       "      <th>max</th>\n",
       "      <td>250.000000</td>\n",
       "      <td>305.000000</td>\n",
       "      <td>637.000000</td>\n",
       "    </tr>\n",
       "  </tbody>\n",
       "</table>\n",
       "</div>"
      ],
      "text/plain": [
       "       lowest_price_per_mwh  highest_price_per_mwh  data_block_id\n",
       "count            637.000000             637.000000     637.000000\n",
       "mean              95.036750             107.754631     319.000000\n",
       "std               47.552295              54.743666     184.030342\n",
       "min               28.100000              34.000000       1.000000\n",
       "25%               60.000000              67.530000     160.000000\n",
       "50%               85.210000              93.470000     319.000000\n",
       "75%              109.000000             130.740000     478.000000\n",
       "max              250.000000             305.000000     637.000000"
      ]
     },
     "execution_count": 32,
     "metadata": {},
     "output_type": "execute_result"
    }
   ],
   "source": [
    "gas_prices.describe()"
   ]
  },
  {
   "cell_type": "markdown",
   "metadata": {},
   "source": [
    "visualizations: "
   ]
  },
  {
   "cell_type": "code",
   "execution_count": null,
   "metadata": {},
   "outputs": [],
   "source": []
  },
  {
   "cell_type": "code",
   "execution_count": null,
   "metadata": {},
   "outputs": [],
   "source": []
  },
  {
   "cell_type": "markdown",
   "metadata": {},
   "source": [
    "##### File #6: historical_weather\n",
    "<hr style=\"border:2px solid pink\">"
   ]
  },
  {
   "cell_type": "code",
   "execution_count": 33,
   "metadata": {},
   "outputs": [
    {
     "data": {
      "text/html": [
       "<div>\n",
       "<style scoped>\n",
       "    .dataframe tbody tr th:only-of-type {\n",
       "        vertical-align: middle;\n",
       "    }\n",
       "\n",
       "    .dataframe tbody tr th {\n",
       "        vertical-align: top;\n",
       "    }\n",
       "\n",
       "    .dataframe thead th {\n",
       "        text-align: right;\n",
       "    }\n",
       "</style>\n",
       "<table border=\"1\" class=\"dataframe\">\n",
       "  <thead>\n",
       "    <tr style=\"text-align: right;\">\n",
       "      <th></th>\n",
       "      <th>datetime</th>\n",
       "      <th>temperature</th>\n",
       "      <th>dewpoint</th>\n",
       "      <th>rain</th>\n",
       "      <th>snowfall</th>\n",
       "      <th>surface_pressure</th>\n",
       "      <th>cloudcover_total</th>\n",
       "      <th>cloudcover_low</th>\n",
       "      <th>cloudcover_mid</th>\n",
       "      <th>cloudcover_high</th>\n",
       "      <th>windspeed_10m</th>\n",
       "      <th>winddirection_10m</th>\n",
       "      <th>shortwave_radiation</th>\n",
       "      <th>direct_solar_radiation</th>\n",
       "      <th>diffuse_radiation</th>\n",
       "      <th>latitude</th>\n",
       "      <th>longitude</th>\n",
       "      <th>data_block_id</th>\n",
       "    </tr>\n",
       "  </thead>\n",
       "  <tbody>\n",
       "    <tr>\n",
       "      <th>0</th>\n",
       "      <td>2021-09-01 00:00:00</td>\n",
       "      <td>14.2</td>\n",
       "      <td>11.6</td>\n",
       "      <td>0.0</td>\n",
       "      <td>0.0</td>\n",
       "      <td>1015.9</td>\n",
       "      <td>31</td>\n",
       "      <td>31</td>\n",
       "      <td>0</td>\n",
       "      <td>11</td>\n",
       "      <td>7.083333</td>\n",
       "      <td>8</td>\n",
       "      <td>0.0</td>\n",
       "      <td>0.0</td>\n",
       "      <td>0.0</td>\n",
       "      <td>57.6</td>\n",
       "      <td>21.7</td>\n",
       "      <td>1.0</td>\n",
       "    </tr>\n",
       "    <tr>\n",
       "      <th>1</th>\n",
       "      <td>2021-09-01 00:00:00</td>\n",
       "      <td>13.9</td>\n",
       "      <td>11.5</td>\n",
       "      <td>0.0</td>\n",
       "      <td>0.0</td>\n",
       "      <td>1010.7</td>\n",
       "      <td>33</td>\n",
       "      <td>37</td>\n",
       "      <td>0</td>\n",
       "      <td>0</td>\n",
       "      <td>5.111111</td>\n",
       "      <td>359</td>\n",
       "      <td>0.0</td>\n",
       "      <td>0.0</td>\n",
       "      <td>0.0</td>\n",
       "      <td>57.6</td>\n",
       "      <td>22.2</td>\n",
       "      <td>1.0</td>\n",
       "    </tr>\n",
       "    <tr>\n",
       "      <th>2</th>\n",
       "      <td>2021-09-01 00:00:00</td>\n",
       "      <td>14.0</td>\n",
       "      <td>12.5</td>\n",
       "      <td>0.0</td>\n",
       "      <td>0.0</td>\n",
       "      <td>1015.0</td>\n",
       "      <td>31</td>\n",
       "      <td>34</td>\n",
       "      <td>0</td>\n",
       "      <td>0</td>\n",
       "      <td>6.333333</td>\n",
       "      <td>355</td>\n",
       "      <td>0.0</td>\n",
       "      <td>0.0</td>\n",
       "      <td>0.0</td>\n",
       "      <td>57.6</td>\n",
       "      <td>22.7</td>\n",
       "      <td>1.0</td>\n",
       "    </tr>\n",
       "    <tr>\n",
       "      <th>3</th>\n",
       "      <td>2021-09-01 00:00:00</td>\n",
       "      <td>14.6</td>\n",
       "      <td>11.5</td>\n",
       "      <td>0.0</td>\n",
       "      <td>0.0</td>\n",
       "      <td>1017.3</td>\n",
       "      <td>0</td>\n",
       "      <td>0</td>\n",
       "      <td>0</td>\n",
       "      <td>0</td>\n",
       "      <td>8.083333</td>\n",
       "      <td>297</td>\n",
       "      <td>358.0</td>\n",
       "      <td>277.0</td>\n",
       "      <td>81.0</td>\n",
       "      <td>57.6</td>\n",
       "      <td>23.2</td>\n",
       "      <td>1.0</td>\n",
       "    </tr>\n",
       "    <tr>\n",
       "      <th>4</th>\n",
       "      <td>2021-09-01 00:00:00</td>\n",
       "      <td>15.7</td>\n",
       "      <td>12.9</td>\n",
       "      <td>0.0</td>\n",
       "      <td>0.0</td>\n",
       "      <td>1014.0</td>\n",
       "      <td>22</td>\n",
       "      <td>25</td>\n",
       "      <td>0</td>\n",
       "      <td>0</td>\n",
       "      <td>8.416667</td>\n",
       "      <td>5</td>\n",
       "      <td>0.0</td>\n",
       "      <td>0.0</td>\n",
       "      <td>0.0</td>\n",
       "      <td>57.6</td>\n",
       "      <td>23.7</td>\n",
       "      <td>1.0</td>\n",
       "    </tr>\n",
       "  </tbody>\n",
       "</table>\n",
       "</div>"
      ],
      "text/plain": [
       "              datetime  temperature  dewpoint  rain  snowfall  \\\n",
       "0  2021-09-01 00:00:00         14.2      11.6   0.0       0.0   \n",
       "1  2021-09-01 00:00:00         13.9      11.5   0.0       0.0   \n",
       "2  2021-09-01 00:00:00         14.0      12.5   0.0       0.0   \n",
       "3  2021-09-01 00:00:00         14.6      11.5   0.0       0.0   \n",
       "4  2021-09-01 00:00:00         15.7      12.9   0.0       0.0   \n",
       "\n",
       "   surface_pressure  cloudcover_total  cloudcover_low  cloudcover_mid  \\\n",
       "0            1015.9                31              31               0   \n",
       "1            1010.7                33              37               0   \n",
       "2            1015.0                31              34               0   \n",
       "3            1017.3                 0               0               0   \n",
       "4            1014.0                22              25               0   \n",
       "\n",
       "   cloudcover_high  windspeed_10m  winddirection_10m  shortwave_radiation  \\\n",
       "0               11       7.083333                  8                  0.0   \n",
       "1                0       5.111111                359                  0.0   \n",
       "2                0       6.333333                355                  0.0   \n",
       "3                0       8.083333                297                358.0   \n",
       "4                0       8.416667                  5                  0.0   \n",
       "\n",
       "   direct_solar_radiation  diffuse_radiation  latitude  longitude  \\\n",
       "0                     0.0                0.0      57.6       21.7   \n",
       "1                     0.0                0.0      57.6       22.2   \n",
       "2                     0.0                0.0      57.6       22.7   \n",
       "3                   277.0               81.0      57.6       23.2   \n",
       "4                     0.0                0.0      57.6       23.7   \n",
       "\n",
       "   data_block_id  \n",
       "0            1.0  \n",
       "1            1.0  \n",
       "2            1.0  \n",
       "3            1.0  \n",
       "4            1.0  "
      ]
     },
     "execution_count": 33,
     "metadata": {},
     "output_type": "execute_result"
    }
   ],
   "source": [
    "historical_weather.head()"
   ]
  },
  {
   "cell_type": "code",
   "execution_count": 34,
   "metadata": {},
   "outputs": [
    {
     "name": "stdout",
     "output_type": "stream",
     "text": [
      "<class 'pandas.core.frame.DataFrame'>\n",
      "RangeIndex: 1710802 entries, 0 to 1710801\n",
      "Data columns (total 18 columns):\n",
      " #   Column                  Dtype  \n",
      "---  ------                  -----  \n",
      " 0   datetime                object \n",
      " 1   temperature             float64\n",
      " 2   dewpoint                float64\n",
      " 3   rain                    float64\n",
      " 4   snowfall                float64\n",
      " 5   surface_pressure        float64\n",
      " 6   cloudcover_total        int64  \n",
      " 7   cloudcover_low          int64  \n",
      " 8   cloudcover_mid          int64  \n",
      " 9   cloudcover_high         int64  \n",
      " 10  windspeed_10m           float64\n",
      " 11  winddirection_10m       int64  \n",
      " 12  shortwave_radiation     float64\n",
      " 13  direct_solar_radiation  float64\n",
      " 14  diffuse_radiation       float64\n",
      " 15  latitude                float64\n",
      " 16  longitude               float64\n",
      " 17  data_block_id           float64\n",
      "dtypes: float64(12), int64(5), object(1)\n",
      "memory usage: 234.9+ MB\n"
     ]
    }
   ],
   "source": [
    "historical_weather.info()"
   ]
  },
  {
   "cell_type": "code",
   "execution_count": 35,
   "metadata": {},
   "outputs": [
    {
     "data": {
      "text/plain": [
       "datetime                  datetime64[ns]\n",
       "temperature                      float64\n",
       "dewpoint                         float64\n",
       "rain                             float64\n",
       "snowfall                         float64\n",
       "surface_pressure                 float64\n",
       "cloudcover_total                   int64\n",
       "cloudcover_low                     int64\n",
       "cloudcover_mid                     int64\n",
       "cloudcover_high                    int64\n",
       "windspeed_10m                    float64\n",
       "winddirection_10m                  int64\n",
       "shortwave_radiation              float64\n",
       "direct_solar_radiation           float64\n",
       "diffuse_radiation                float64\n",
       "latitude                         float64\n",
       "longitude                        float64\n",
       "data_block_id                    float64\n",
       "dtype: object"
      ]
     },
     "execution_count": 35,
     "metadata": {},
     "output_type": "execute_result"
    }
   ],
   "source": [
    "convert_datetime(historical_weather, 'datetime')"
   ]
  },
  {
   "cell_type": "code",
   "execution_count": 36,
   "metadata": {},
   "outputs": [
    {
     "data": {
      "text/plain": [
       "datetime                  0\n",
       "temperature               0\n",
       "dewpoint                  0\n",
       "rain                      0\n",
       "snowfall                  0\n",
       "surface_pressure          0\n",
       "cloudcover_total          0\n",
       "cloudcover_low            0\n",
       "cloudcover_mid            0\n",
       "cloudcover_high           0\n",
       "windspeed_10m             0\n",
       "winddirection_10m         0\n",
       "shortwave_radiation       0\n",
       "direct_solar_radiation    0\n",
       "diffuse_radiation         0\n",
       "latitude                  0\n",
       "longitude                 0\n",
       "data_block_id             0\n",
       "dtype: int64"
      ]
     },
     "execution_count": 36,
     "metadata": {},
     "output_type": "execute_result"
    }
   ],
   "source": [
    "# check missing and duplicates\n",
    "historical_weather.isna().sum()"
   ]
  },
  {
   "cell_type": "code",
   "execution_count": 37,
   "metadata": {},
   "outputs": [
    {
     "data": {
      "text/plain": [
       "0"
      ]
     },
     "execution_count": 37,
     "metadata": {},
     "output_type": "execute_result"
    }
   ],
   "source": [
    "historical_weather.duplicated().sum()"
   ]
  },
  {
   "cell_type": "code",
   "execution_count": 38,
   "metadata": {},
   "outputs": [
    {
     "data": {
      "text/html": [
       "<div>\n",
       "<style scoped>\n",
       "    .dataframe tbody tr th:only-of-type {\n",
       "        vertical-align: middle;\n",
       "    }\n",
       "\n",
       "    .dataframe tbody tr th {\n",
       "        vertical-align: top;\n",
       "    }\n",
       "\n",
       "    .dataframe thead th {\n",
       "        text-align: right;\n",
       "    }\n",
       "</style>\n",
       "<table border=\"1\" class=\"dataframe\">\n",
       "  <thead>\n",
       "    <tr style=\"text-align: right;\">\n",
       "      <th></th>\n",
       "      <th>temperature</th>\n",
       "      <th>dewpoint</th>\n",
       "      <th>rain</th>\n",
       "      <th>snowfall</th>\n",
       "      <th>surface_pressure</th>\n",
       "      <th>cloudcover_total</th>\n",
       "      <th>cloudcover_low</th>\n",
       "      <th>cloudcover_mid</th>\n",
       "      <th>cloudcover_high</th>\n",
       "      <th>windspeed_10m</th>\n",
       "      <th>winddirection_10m</th>\n",
       "      <th>shortwave_radiation</th>\n",
       "      <th>direct_solar_radiation</th>\n",
       "      <th>diffuse_radiation</th>\n",
       "      <th>latitude</th>\n",
       "      <th>longitude</th>\n",
       "      <th>data_block_id</th>\n",
       "    </tr>\n",
       "  </thead>\n",
       "  <tbody>\n",
       "    <tr>\n",
       "      <th>count</th>\n",
       "      <td>1.710802e+06</td>\n",
       "      <td>1.710802e+06</td>\n",
       "      <td>1.710802e+06</td>\n",
       "      <td>1.710802e+06</td>\n",
       "      <td>1.710802e+06</td>\n",
       "      <td>1.710802e+06</td>\n",
       "      <td>1.710802e+06</td>\n",
       "      <td>1.710802e+06</td>\n",
       "      <td>1.710802e+06</td>\n",
       "      <td>1.710802e+06</td>\n",
       "      <td>1.710802e+06</td>\n",
       "      <td>1.710802e+06</td>\n",
       "      <td>1.710802e+06</td>\n",
       "      <td>1.710802e+06</td>\n",
       "      <td>1.710802e+06</td>\n",
       "      <td>1.710802e+06</td>\n",
       "      <td>1.710802e+06</td>\n",
       "    </tr>\n",
       "    <tr>\n",
       "      <th>mean</th>\n",
       "      <td>5.740968e+00</td>\n",
       "      <td>2.240312e+00</td>\n",
       "      <td>4.962012e-02</td>\n",
       "      <td>1.604896e-02</td>\n",
       "      <td>1.009282e+03</td>\n",
       "      <td>6.091270e+01</td>\n",
       "      <td>4.668593e+01</td>\n",
       "      <td>3.440698e+01</td>\n",
       "      <td>3.605141e+01</td>\n",
       "      <td>4.849871e+00</td>\n",
       "      <td>1.978694e+02</td>\n",
       "      <td>1.064905e+02</td>\n",
       "      <td>6.445292e+01</td>\n",
       "      <td>4.203759e+01</td>\n",
       "      <td>5.865000e+01</td>\n",
       "      <td>2.495000e+01</td>\n",
       "      <td>3.192708e+02</td>\n",
       "    </tr>\n",
       "    <tr>\n",
       "      <th>std</th>\n",
       "      <td>8.025647e+00</td>\n",
       "      <td>7.224357e+00</td>\n",
       "      <td>2.079113e-01</td>\n",
       "      <td>7.462936e-02</td>\n",
       "      <td>1.308891e+01</td>\n",
       "      <td>3.776905e+01</td>\n",
       "      <td>4.074760e+01</td>\n",
       "      <td>3.832769e+01</td>\n",
       "      <td>4.135852e+01</td>\n",
       "      <td>2.475450e+00</td>\n",
       "      <td>8.993798e+01</td>\n",
       "      <td>1.799449e+02</td>\n",
       "      <td>1.334100e+02</td>\n",
       "      <td>6.195225e+01</td>\n",
       "      <td>6.873871e-01</td>\n",
       "      <td>2.015564e+00</td>\n",
       "      <td>1.837298e+02</td>\n",
       "    </tr>\n",
       "    <tr>\n",
       "      <th>min</th>\n",
       "      <td>-2.370000e+01</td>\n",
       "      <td>-2.590000e+01</td>\n",
       "      <td>0.000000e+00</td>\n",
       "      <td>0.000000e+00</td>\n",
       "      <td>9.429000e+02</td>\n",
       "      <td>0.000000e+00</td>\n",
       "      <td>0.000000e+00</td>\n",
       "      <td>0.000000e+00</td>\n",
       "      <td>0.000000e+00</td>\n",
       "      <td>0.000000e+00</td>\n",
       "      <td>0.000000e+00</td>\n",
       "      <td>0.000000e+00</td>\n",
       "      <td>0.000000e+00</td>\n",
       "      <td>0.000000e+00</td>\n",
       "      <td>5.760000e+01</td>\n",
       "      <td>2.170000e+01</td>\n",
       "      <td>1.000000e+00</td>\n",
       "    </tr>\n",
       "    <tr>\n",
       "      <th>25%</th>\n",
       "      <td>-0.000000e+00</td>\n",
       "      <td>-2.600000e+00</td>\n",
       "      <td>0.000000e+00</td>\n",
       "      <td>0.000000e+00</td>\n",
       "      <td>1.001500e+03</td>\n",
       "      <td>2.500000e+01</td>\n",
       "      <td>3.000000e+00</td>\n",
       "      <td>0.000000e+00</td>\n",
       "      <td>0.000000e+00</td>\n",
       "      <td>3.000000e+00</td>\n",
       "      <td>1.390000e+02</td>\n",
       "      <td>0.000000e+00</td>\n",
       "      <td>0.000000e+00</td>\n",
       "      <td>0.000000e+00</td>\n",
       "      <td>5.790000e+01</td>\n",
       "      <td>2.320000e+01</td>\n",
       "      <td>1.600000e+02</td>\n",
       "    </tr>\n",
       "    <tr>\n",
       "      <th>50%</th>\n",
       "      <td>5.100000e+00</td>\n",
       "      <td>1.700000e+00</td>\n",
       "      <td>0.000000e+00</td>\n",
       "      <td>0.000000e+00</td>\n",
       "      <td>1.010400e+03</td>\n",
       "      <td>7.200000e+01</td>\n",
       "      <td>3.900000e+01</td>\n",
       "      <td>1.600000e+01</td>\n",
       "      <td>1.000000e+01</td>\n",
       "      <td>4.500000e+00</td>\n",
       "      <td>2.080000e+02</td>\n",
       "      <td>1.000000e+00</td>\n",
       "      <td>0.000000e+00</td>\n",
       "      <td>1.000000e+00</td>\n",
       "      <td>5.850000e+01</td>\n",
       "      <td>2.470000e+01</td>\n",
       "      <td>3.190000e+02</td>\n",
       "    </tr>\n",
       "    <tr>\n",
       "      <th>75%</th>\n",
       "      <td>1.120000e+01</td>\n",
       "      <td>7.200000e+00</td>\n",
       "      <td>0.000000e+00</td>\n",
       "      <td>0.000000e+00</td>\n",
       "      <td>1.018000e+03</td>\n",
       "      <td>1.000000e+02</td>\n",
       "      <td>9.400000e+01</td>\n",
       "      <td>7.200000e+01</td>\n",
       "      <td>8.500000e+01</td>\n",
       "      <td>6.277778e+00</td>\n",
       "      <td>2.630000e+02</td>\n",
       "      <td>1.400000e+02</td>\n",
       "      <td>4.700000e+01</td>\n",
       "      <td>7.400000e+01</td>\n",
       "      <td>5.910000e+01</td>\n",
       "      <td>2.670000e+01</td>\n",
       "      <td>4.780000e+02</td>\n",
       "    </tr>\n",
       "    <tr>\n",
       "      <th>max</th>\n",
       "      <td>3.260000e+01</td>\n",
       "      <td>2.380000e+01</td>\n",
       "      <td>1.680000e+01</td>\n",
       "      <td>2.660000e+00</td>\n",
       "      <td>1.049300e+03</td>\n",
       "      <td>1.000000e+02</td>\n",
       "      <td>1.000000e+02</td>\n",
       "      <td>1.000000e+02</td>\n",
       "      <td>1.000000e+02</td>\n",
       "      <td>2.175000e+01</td>\n",
       "      <td>3.600000e+02</td>\n",
       "      <td>8.490000e+02</td>\n",
       "      <td>7.540000e+02</td>\n",
       "      <td>3.880000e+02</td>\n",
       "      <td>5.970000e+01</td>\n",
       "      <td>2.820000e+01</td>\n",
       "      <td>6.370000e+02</td>\n",
       "    </tr>\n",
       "  </tbody>\n",
       "</table>\n",
       "</div>"
      ],
      "text/plain": [
       "        temperature      dewpoint          rain      snowfall  \\\n",
       "count  1.710802e+06  1.710802e+06  1.710802e+06  1.710802e+06   \n",
       "mean   5.740968e+00  2.240312e+00  4.962012e-02  1.604896e-02   \n",
       "std    8.025647e+00  7.224357e+00  2.079113e-01  7.462936e-02   \n",
       "min   -2.370000e+01 -2.590000e+01  0.000000e+00  0.000000e+00   \n",
       "25%   -0.000000e+00 -2.600000e+00  0.000000e+00  0.000000e+00   \n",
       "50%    5.100000e+00  1.700000e+00  0.000000e+00  0.000000e+00   \n",
       "75%    1.120000e+01  7.200000e+00  0.000000e+00  0.000000e+00   \n",
       "max    3.260000e+01  2.380000e+01  1.680000e+01  2.660000e+00   \n",
       "\n",
       "       surface_pressure  cloudcover_total  cloudcover_low  cloudcover_mid  \\\n",
       "count      1.710802e+06      1.710802e+06    1.710802e+06    1.710802e+06   \n",
       "mean       1.009282e+03      6.091270e+01    4.668593e+01    3.440698e+01   \n",
       "std        1.308891e+01      3.776905e+01    4.074760e+01    3.832769e+01   \n",
       "min        9.429000e+02      0.000000e+00    0.000000e+00    0.000000e+00   \n",
       "25%        1.001500e+03      2.500000e+01    3.000000e+00    0.000000e+00   \n",
       "50%        1.010400e+03      7.200000e+01    3.900000e+01    1.600000e+01   \n",
       "75%        1.018000e+03      1.000000e+02    9.400000e+01    7.200000e+01   \n",
       "max        1.049300e+03      1.000000e+02    1.000000e+02    1.000000e+02   \n",
       "\n",
       "       cloudcover_high  windspeed_10m  winddirection_10m  shortwave_radiation  \\\n",
       "count     1.710802e+06   1.710802e+06       1.710802e+06         1.710802e+06   \n",
       "mean      3.605141e+01   4.849871e+00       1.978694e+02         1.064905e+02   \n",
       "std       4.135852e+01   2.475450e+00       8.993798e+01         1.799449e+02   \n",
       "min       0.000000e+00   0.000000e+00       0.000000e+00         0.000000e+00   \n",
       "25%       0.000000e+00   3.000000e+00       1.390000e+02         0.000000e+00   \n",
       "50%       1.000000e+01   4.500000e+00       2.080000e+02         1.000000e+00   \n",
       "75%       8.500000e+01   6.277778e+00       2.630000e+02         1.400000e+02   \n",
       "max       1.000000e+02   2.175000e+01       3.600000e+02         8.490000e+02   \n",
       "\n",
       "       direct_solar_radiation  diffuse_radiation      latitude     longitude  \\\n",
       "count            1.710802e+06       1.710802e+06  1.710802e+06  1.710802e+06   \n",
       "mean             6.445292e+01       4.203759e+01  5.865000e+01  2.495000e+01   \n",
       "std              1.334100e+02       6.195225e+01  6.873871e-01  2.015564e+00   \n",
       "min              0.000000e+00       0.000000e+00  5.760000e+01  2.170000e+01   \n",
       "25%              0.000000e+00       0.000000e+00  5.790000e+01  2.320000e+01   \n",
       "50%              0.000000e+00       1.000000e+00  5.850000e+01  2.470000e+01   \n",
       "75%              4.700000e+01       7.400000e+01  5.910000e+01  2.670000e+01   \n",
       "max              7.540000e+02       3.880000e+02  5.970000e+01  2.820000e+01   \n",
       "\n",
       "       data_block_id  \n",
       "count   1.710802e+06  \n",
       "mean    3.192708e+02  \n",
       "std     1.837298e+02  \n",
       "min     1.000000e+00  \n",
       "25%     1.600000e+02  \n",
       "50%     3.190000e+02  \n",
       "75%     4.780000e+02  \n",
       "max     6.370000e+02  "
      ]
     },
     "execution_count": 38,
     "metadata": {},
     "output_type": "execute_result"
    }
   ],
   "source": [
    "historical_weather.describe()"
   ]
  },
  {
   "cell_type": "markdown",
   "metadata": {},
   "source": [
    "visualizations: "
   ]
  },
  {
   "cell_type": "code",
   "execution_count": null,
   "metadata": {},
   "outputs": [],
   "source": []
  },
  {
   "cell_type": "code",
   "execution_count": null,
   "metadata": {},
   "outputs": [],
   "source": []
  },
  {
   "cell_type": "markdown",
   "metadata": {},
   "source": [
    "##### File #7: Train\n",
    "<hr style=\"border:2px solid pink\">"
   ]
  },
  {
   "cell_type": "code",
   "execution_count": 39,
   "metadata": {},
   "outputs": [
    {
     "data": {
      "text/html": [
       "<div>\n",
       "<style scoped>\n",
       "    .dataframe tbody tr th:only-of-type {\n",
       "        vertical-align: middle;\n",
       "    }\n",
       "\n",
       "    .dataframe tbody tr th {\n",
       "        vertical-align: top;\n",
       "    }\n",
       "\n",
       "    .dataframe thead th {\n",
       "        text-align: right;\n",
       "    }\n",
       "</style>\n",
       "<table border=\"1\" class=\"dataframe\">\n",
       "  <thead>\n",
       "    <tr style=\"text-align: right;\">\n",
       "      <th></th>\n",
       "      <th>county</th>\n",
       "      <th>is_business</th>\n",
       "      <th>product_type</th>\n",
       "      <th>target</th>\n",
       "      <th>is_consumption</th>\n",
       "      <th>datetime</th>\n",
       "      <th>data_block_id</th>\n",
       "      <th>row_id</th>\n",
       "      <th>prediction_unit_id</th>\n",
       "    </tr>\n",
       "  </thead>\n",
       "  <tbody>\n",
       "    <tr>\n",
       "      <th>0</th>\n",
       "      <td>0</td>\n",
       "      <td>0</td>\n",
       "      <td>1</td>\n",
       "      <td>0.713</td>\n",
       "      <td>0</td>\n",
       "      <td>2021-09-01 00:00:00</td>\n",
       "      <td>0</td>\n",
       "      <td>0</td>\n",
       "      <td>0</td>\n",
       "    </tr>\n",
       "    <tr>\n",
       "      <th>1</th>\n",
       "      <td>0</td>\n",
       "      <td>0</td>\n",
       "      <td>1</td>\n",
       "      <td>96.590</td>\n",
       "      <td>1</td>\n",
       "      <td>2021-09-01 00:00:00</td>\n",
       "      <td>0</td>\n",
       "      <td>1</td>\n",
       "      <td>0</td>\n",
       "    </tr>\n",
       "    <tr>\n",
       "      <th>2</th>\n",
       "      <td>0</td>\n",
       "      <td>0</td>\n",
       "      <td>2</td>\n",
       "      <td>0.000</td>\n",
       "      <td>0</td>\n",
       "      <td>2021-09-01 00:00:00</td>\n",
       "      <td>0</td>\n",
       "      <td>2</td>\n",
       "      <td>1</td>\n",
       "    </tr>\n",
       "    <tr>\n",
       "      <th>3</th>\n",
       "      <td>0</td>\n",
       "      <td>0</td>\n",
       "      <td>2</td>\n",
       "      <td>17.314</td>\n",
       "      <td>1</td>\n",
       "      <td>2021-09-01 00:00:00</td>\n",
       "      <td>0</td>\n",
       "      <td>3</td>\n",
       "      <td>1</td>\n",
       "    </tr>\n",
       "    <tr>\n",
       "      <th>4</th>\n",
       "      <td>0</td>\n",
       "      <td>0</td>\n",
       "      <td>3</td>\n",
       "      <td>2.904</td>\n",
       "      <td>0</td>\n",
       "      <td>2021-09-01 00:00:00</td>\n",
       "      <td>0</td>\n",
       "      <td>4</td>\n",
       "      <td>2</td>\n",
       "    </tr>\n",
       "  </tbody>\n",
       "</table>\n",
       "</div>"
      ],
      "text/plain": [
       "   county  is_business  product_type  target  is_consumption  \\\n",
       "0       0            0             1   0.713               0   \n",
       "1       0            0             1  96.590               1   \n",
       "2       0            0             2   0.000               0   \n",
       "3       0            0             2  17.314               1   \n",
       "4       0            0             3   2.904               0   \n",
       "\n",
       "              datetime  data_block_id  row_id  prediction_unit_id  \n",
       "0  2021-09-01 00:00:00              0       0                   0  \n",
       "1  2021-09-01 00:00:00              0       1                   0  \n",
       "2  2021-09-01 00:00:00              0       2                   1  \n",
       "3  2021-09-01 00:00:00              0       3                   1  \n",
       "4  2021-09-01 00:00:00              0       4                   2  "
      ]
     },
     "execution_count": 39,
     "metadata": {},
     "output_type": "execute_result"
    }
   ],
   "source": [
    "train.head()"
   ]
  },
  {
   "cell_type": "code",
   "execution_count": 40,
   "metadata": {},
   "outputs": [
    {
     "name": "stdout",
     "output_type": "stream",
     "text": [
      "<class 'pandas.core.frame.DataFrame'>\n",
      "RangeIndex: 2018352 entries, 0 to 2018351\n",
      "Data columns (total 9 columns):\n",
      " #   Column              Dtype  \n",
      "---  ------              -----  \n",
      " 0   county              int64  \n",
      " 1   is_business         int64  \n",
      " 2   product_type        int64  \n",
      " 3   target              float64\n",
      " 4   is_consumption      int64  \n",
      " 5   datetime            object \n",
      " 6   data_block_id       int64  \n",
      " 7   row_id              int64  \n",
      " 8   prediction_unit_id  int64  \n",
      "dtypes: float64(1), int64(7), object(1)\n",
      "memory usage: 138.6+ MB\n"
     ]
    }
   ],
   "source": [
    "train.info()"
   ]
  },
  {
   "cell_type": "code",
   "execution_count": 41,
   "metadata": {},
   "outputs": [
    {
     "data": {
      "text/plain": [
       "county                         int64\n",
       "is_business                    int64\n",
       "product_type                   int64\n",
       "target                       float64\n",
       "is_consumption                 int64\n",
       "datetime              datetime64[ns]\n",
       "data_block_id                  int64\n",
       "row_id                         int64\n",
       "prediction_unit_id             int64\n",
       "dtype: object"
      ]
     },
     "execution_count": 41,
     "metadata": {},
     "output_type": "execute_result"
    }
   ],
   "source": [
    "convert_datetime(train, 'datetime')"
   ]
  },
  {
   "cell_type": "code",
   "execution_count": 42,
   "metadata": {},
   "outputs": [
    {
     "data": {
      "text/plain": [
       "county                  0\n",
       "is_business             0\n",
       "product_type            0\n",
       "target                528\n",
       "is_consumption          0\n",
       "datetime                0\n",
       "data_block_id           0\n",
       "row_id                  0\n",
       "prediction_unit_id      0\n",
       "dtype: int64"
      ]
     },
     "execution_count": 42,
     "metadata": {},
     "output_type": "execute_result"
    }
   ],
   "source": [
    "train.isna().sum()\n",
    "# target is missing 528 values\n",
    "# 2 million rows, drop them"
   ]
  },
  {
   "cell_type": "code",
   "execution_count": 43,
   "metadata": {},
   "outputs": [
    {
     "data": {
      "text/plain": [
       "(2018352, 9)"
      ]
     },
     "execution_count": 43,
     "metadata": {},
     "output_type": "execute_result"
    }
   ],
   "source": [
    "train.shape"
   ]
  },
  {
   "cell_type": "code",
   "execution_count": 44,
   "metadata": {},
   "outputs": [
    {
     "data": {
      "text/plain": [
       "(2017824, 9)"
      ]
     },
     "execution_count": 44,
     "metadata": {},
     "output_type": "execute_result"
    }
   ],
   "source": [
    "train.dropna(inplace=True)\n",
    "train.shape"
   ]
  },
  {
   "cell_type": "code",
   "execution_count": 45,
   "metadata": {},
   "outputs": [
    {
     "data": {
      "text/plain": [
       "0"
      ]
     },
     "execution_count": 45,
     "metadata": {},
     "output_type": "execute_result"
    }
   ],
   "source": [
    "# check duplicates\n",
    "train.duplicated().sum()"
   ]
  },
  {
   "cell_type": "code",
   "execution_count": 46,
   "metadata": {},
   "outputs": [
    {
     "data": {
      "text/html": [
       "<div>\n",
       "<style scoped>\n",
       "    .dataframe tbody tr th:only-of-type {\n",
       "        vertical-align: middle;\n",
       "    }\n",
       "\n",
       "    .dataframe tbody tr th {\n",
       "        vertical-align: top;\n",
       "    }\n",
       "\n",
       "    .dataframe thead th {\n",
       "        text-align: right;\n",
       "    }\n",
       "</style>\n",
       "<table border=\"1\" class=\"dataframe\">\n",
       "  <thead>\n",
       "    <tr style=\"text-align: right;\">\n",
       "      <th></th>\n",
       "      <th>county</th>\n",
       "      <th>is_business</th>\n",
       "      <th>product_type</th>\n",
       "      <th>target</th>\n",
       "      <th>is_consumption</th>\n",
       "      <th>data_block_id</th>\n",
       "      <th>row_id</th>\n",
       "      <th>prediction_unit_id</th>\n",
       "    </tr>\n",
       "  </thead>\n",
       "  <tbody>\n",
       "    <tr>\n",
       "      <th>count</th>\n",
       "      <td>2.017824e+06</td>\n",
       "      <td>2.017824e+06</td>\n",
       "      <td>2.017824e+06</td>\n",
       "      <td>2.017824e+06</td>\n",
       "      <td>2017824.0</td>\n",
       "      <td>2.017824e+06</td>\n",
       "      <td>2.017824e+06</td>\n",
       "      <td>2.017824e+06</td>\n",
       "    </tr>\n",
       "    <tr>\n",
       "      <th>mean</th>\n",
       "      <td>7.297039e+00</td>\n",
       "      <td>5.368268e-01</td>\n",
       "      <td>1.898927e+00</td>\n",
       "      <td>2.748556e+02</td>\n",
       "      <td>0.5</td>\n",
       "      <td>3.218754e+02</td>\n",
       "      <td>1.009178e+06</td>\n",
       "      <td>3.304540e+01</td>\n",
       "    </tr>\n",
       "    <tr>\n",
       "      <th>std</th>\n",
       "      <td>4.780994e+00</td>\n",
       "      <td>4.986421e-01</td>\n",
       "      <td>1.081766e+00</td>\n",
       "      <td>9.095024e+02</td>\n",
       "      <td>0.5</td>\n",
       "      <td>1.826310e+02</td>\n",
       "      <td>5.826378e+05</td>\n",
       "      <td>1.959062e+01</td>\n",
       "    </tr>\n",
       "    <tr>\n",
       "      <th>min</th>\n",
       "      <td>0.000000e+00</td>\n",
       "      <td>0.000000e+00</td>\n",
       "      <td>0.000000e+00</td>\n",
       "      <td>0.000000e+00</td>\n",
       "      <td>0.0</td>\n",
       "      <td>0.000000e+00</td>\n",
       "      <td>0.000000e+00</td>\n",
       "      <td>0.000000e+00</td>\n",
       "    </tr>\n",
       "    <tr>\n",
       "      <th>25%</th>\n",
       "      <td>3.000000e+00</td>\n",
       "      <td>0.000000e+00</td>\n",
       "      <td>1.000000e+00</td>\n",
       "      <td>3.780000e-01</td>\n",
       "      <td>0.0</td>\n",
       "      <td>1.660000e+02</td>\n",
       "      <td>5.045818e+05</td>\n",
       "      <td>1.600000e+01</td>\n",
       "    </tr>\n",
       "    <tr>\n",
       "      <th>50%</th>\n",
       "      <td>7.000000e+00</td>\n",
       "      <td>1.000000e+00</td>\n",
       "      <td>2.000000e+00</td>\n",
       "      <td>3.113300e+01</td>\n",
       "      <td>0.5</td>\n",
       "      <td>3.230000e+02</td>\n",
       "      <td>1.009172e+06</td>\n",
       "      <td>3.300000e+01</td>\n",
       "    </tr>\n",
       "    <tr>\n",
       "      <th>75%</th>\n",
       "      <td>1.100000e+01</td>\n",
       "      <td>1.000000e+00</td>\n",
       "      <td>3.000000e+00</td>\n",
       "      <td>1.802062e+02</td>\n",
       "      <td>1.0</td>\n",
       "      <td>4.790000e+02</td>\n",
       "      <td>1.513763e+06</td>\n",
       "      <td>5.000000e+01</td>\n",
       "    </tr>\n",
       "    <tr>\n",
       "      <th>max</th>\n",
       "      <td>1.500000e+01</td>\n",
       "      <td>1.000000e+00</td>\n",
       "      <td>3.000000e+00</td>\n",
       "      <td>1.548027e+04</td>\n",
       "      <td>1.0</td>\n",
       "      <td>6.370000e+02</td>\n",
       "      <td>2.018351e+06</td>\n",
       "      <td>6.800000e+01</td>\n",
       "    </tr>\n",
       "  </tbody>\n",
       "</table>\n",
       "</div>"
      ],
      "text/plain": [
       "             county   is_business  product_type        target  is_consumption  \\\n",
       "count  2.017824e+06  2.017824e+06  2.017824e+06  2.017824e+06       2017824.0   \n",
       "mean   7.297039e+00  5.368268e-01  1.898927e+00  2.748556e+02             0.5   \n",
       "std    4.780994e+00  4.986421e-01  1.081766e+00  9.095024e+02             0.5   \n",
       "min    0.000000e+00  0.000000e+00  0.000000e+00  0.000000e+00             0.0   \n",
       "25%    3.000000e+00  0.000000e+00  1.000000e+00  3.780000e-01             0.0   \n",
       "50%    7.000000e+00  1.000000e+00  2.000000e+00  3.113300e+01             0.5   \n",
       "75%    1.100000e+01  1.000000e+00  3.000000e+00  1.802062e+02             1.0   \n",
       "max    1.500000e+01  1.000000e+00  3.000000e+00  1.548027e+04             1.0   \n",
       "\n",
       "       data_block_id        row_id  prediction_unit_id  \n",
       "count   2.017824e+06  2.017824e+06        2.017824e+06  \n",
       "mean    3.218754e+02  1.009178e+06        3.304540e+01  \n",
       "std     1.826310e+02  5.826378e+05        1.959062e+01  \n",
       "min     0.000000e+00  0.000000e+00        0.000000e+00  \n",
       "25%     1.660000e+02  5.045818e+05        1.600000e+01  \n",
       "50%     3.230000e+02  1.009172e+06        3.300000e+01  \n",
       "75%     4.790000e+02  1.513763e+06        5.000000e+01  \n",
       "max     6.370000e+02  2.018351e+06        6.800000e+01  "
      ]
     },
     "execution_count": 46,
     "metadata": {},
     "output_type": "execute_result"
    }
   ],
   "source": [
    "train.describe()"
   ]
  },
  {
   "cell_type": "markdown",
   "metadata": {},
   "source": [
    "visualizations: "
   ]
  },
  {
   "cell_type": "code",
   "execution_count": null,
   "metadata": {},
   "outputs": [],
   "source": []
  },
  {
   "cell_type": "code",
   "execution_count": null,
   "metadata": {},
   "outputs": [],
   "source": []
  },
  {
   "cell_type": "markdown",
   "metadata": {},
   "source": [
    "##### File #8: weather_station_to_county_mapping\n",
    "<hr style=\"border:2px solid pink\">"
   ]
  },
  {
   "cell_type": "code",
   "execution_count": 47,
   "metadata": {},
   "outputs": [
    {
     "data": {
      "text/html": [
       "<div>\n",
       "<style scoped>\n",
       "    .dataframe tbody tr th:only-of-type {\n",
       "        vertical-align: middle;\n",
       "    }\n",
       "\n",
       "    .dataframe tbody tr th {\n",
       "        vertical-align: top;\n",
       "    }\n",
       "\n",
       "    .dataframe thead th {\n",
       "        text-align: right;\n",
       "    }\n",
       "</style>\n",
       "<table border=\"1\" class=\"dataframe\">\n",
       "  <thead>\n",
       "    <tr style=\"text-align: right;\">\n",
       "      <th></th>\n",
       "      <th>county_name</th>\n",
       "      <th>longitude</th>\n",
       "      <th>latitude</th>\n",
       "      <th>county</th>\n",
       "    </tr>\n",
       "  </thead>\n",
       "  <tbody>\n",
       "    <tr>\n",
       "      <th>0</th>\n",
       "      <td>NaN</td>\n",
       "      <td>21.7</td>\n",
       "      <td>57.6</td>\n",
       "      <td>NaN</td>\n",
       "    </tr>\n",
       "    <tr>\n",
       "      <th>1</th>\n",
       "      <td>NaN</td>\n",
       "      <td>21.7</td>\n",
       "      <td>57.9</td>\n",
       "      <td>NaN</td>\n",
       "    </tr>\n",
       "    <tr>\n",
       "      <th>2</th>\n",
       "      <td>NaN</td>\n",
       "      <td>21.7</td>\n",
       "      <td>58.2</td>\n",
       "      <td>NaN</td>\n",
       "    </tr>\n",
       "    <tr>\n",
       "      <th>3</th>\n",
       "      <td>NaN</td>\n",
       "      <td>21.7</td>\n",
       "      <td>58.5</td>\n",
       "      <td>NaN</td>\n",
       "    </tr>\n",
       "    <tr>\n",
       "      <th>4</th>\n",
       "      <td>NaN</td>\n",
       "      <td>21.7</td>\n",
       "      <td>58.8</td>\n",
       "      <td>NaN</td>\n",
       "    </tr>\n",
       "  </tbody>\n",
       "</table>\n",
       "</div>"
      ],
      "text/plain": [
       "  county_name  longitude  latitude  county\n",
       "0         NaN       21.7      57.6     NaN\n",
       "1         NaN       21.7      57.9     NaN\n",
       "2         NaN       21.7      58.2     NaN\n",
       "3         NaN       21.7      58.5     NaN\n",
       "4         NaN       21.7      58.8     NaN"
      ]
     },
     "execution_count": 47,
     "metadata": {},
     "output_type": "execute_result"
    }
   ],
   "source": [
    "weather_station_to_county_mapping.head()"
   ]
  },
  {
   "cell_type": "code",
   "execution_count": 48,
   "metadata": {},
   "outputs": [
    {
     "name": "stdout",
     "output_type": "stream",
     "text": [
      "<class 'pandas.core.frame.DataFrame'>\n",
      "RangeIndex: 112 entries, 0 to 111\n",
      "Data columns (total 4 columns):\n",
      " #   Column       Non-Null Count  Dtype  \n",
      "---  ------       --------------  -----  \n",
      " 0   county_name  49 non-null     object \n",
      " 1   longitude    112 non-null    float64\n",
      " 2   latitude     112 non-null    float64\n",
      " 3   county       49 non-null     float64\n",
      "dtypes: float64(3), object(1)\n",
      "memory usage: 3.6+ KB\n"
     ]
    }
   ],
   "source": [
    "weather_station_to_county_mapping.info()"
   ]
  },
  {
   "cell_type": "code",
   "execution_count": 49,
   "metadata": {},
   "outputs": [],
   "source": [
    "# county name and county are missing about half the values\n",
    "# can't drop them\n",
    "# is this file useful"
   ]
  },
  {
   "cell_type": "code",
   "execution_count": 50,
   "metadata": {},
   "outputs": [
    {
     "data": {
      "text/plain": [
       "county_name    63\n",
       "longitude       0\n",
       "latitude        0\n",
       "county         63\n",
       "dtype: int64"
      ]
     },
     "execution_count": 50,
     "metadata": {},
     "output_type": "execute_result"
    }
   ],
   "source": [
    "weather_station_to_county_mapping.isna().sum()"
   ]
  },
  {
   "cell_type": "code",
   "execution_count": 51,
   "metadata": {},
   "outputs": [
    {
     "data": {
      "text/plain": [
       "0"
      ]
     },
     "execution_count": 51,
     "metadata": {},
     "output_type": "execute_result"
    }
   ],
   "source": [
    "weather_station_to_county_mapping.duplicated().sum()"
   ]
  },
  {
   "cell_type": "code",
   "execution_count": 52,
   "metadata": {},
   "outputs": [
    {
     "data": {
      "text/html": [
       "<div>\n",
       "<style scoped>\n",
       "    .dataframe tbody tr th:only-of-type {\n",
       "        vertical-align: middle;\n",
       "    }\n",
       "\n",
       "    .dataframe tbody tr th {\n",
       "        vertical-align: top;\n",
       "    }\n",
       "\n",
       "    .dataframe thead th {\n",
       "        text-align: right;\n",
       "    }\n",
       "</style>\n",
       "<table border=\"1\" class=\"dataframe\">\n",
       "  <thead>\n",
       "    <tr style=\"text-align: right;\">\n",
       "      <th></th>\n",
       "      <th>longitude</th>\n",
       "      <th>latitude</th>\n",
       "      <th>county</th>\n",
       "    </tr>\n",
       "  </thead>\n",
       "  <tbody>\n",
       "    <tr>\n",
       "      <th>count</th>\n",
       "      <td>112.000000</td>\n",
       "      <td>112.000000</td>\n",
       "      <td>49.000000</td>\n",
       "    </tr>\n",
       "    <tr>\n",
       "      <th>mean</th>\n",
       "      <td>24.950000</td>\n",
       "      <td>58.650000</td>\n",
       "      <td>7.061224</td>\n",
       "    </tr>\n",
       "    <tr>\n",
       "      <th>std</th>\n",
       "      <td>2.024623</td>\n",
       "      <td>0.690476</td>\n",
       "      <td>4.870866</td>\n",
       "    </tr>\n",
       "    <tr>\n",
       "      <th>min</th>\n",
       "      <td>21.700000</td>\n",
       "      <td>57.600000</td>\n",
       "      <td>0.000000</td>\n",
       "    </tr>\n",
       "    <tr>\n",
       "      <th>25%</th>\n",
       "      <td>23.200000</td>\n",
       "      <td>58.125000</td>\n",
       "      <td>3.000000</td>\n",
       "    </tr>\n",
       "    <tr>\n",
       "      <th>50%</th>\n",
       "      <td>24.950000</td>\n",
       "      <td>58.650000</td>\n",
       "      <td>7.000000</td>\n",
       "    </tr>\n",
       "    <tr>\n",
       "      <th>75%</th>\n",
       "      <td>26.700000</td>\n",
       "      <td>59.175000</td>\n",
       "      <td>11.000000</td>\n",
       "    </tr>\n",
       "    <tr>\n",
       "      <th>max</th>\n",
       "      <td>28.200000</td>\n",
       "      <td>59.700000</td>\n",
       "      <td>15.000000</td>\n",
       "    </tr>\n",
       "  </tbody>\n",
       "</table>\n",
       "</div>"
      ],
      "text/plain": [
       "        longitude    latitude     county\n",
       "count  112.000000  112.000000  49.000000\n",
       "mean    24.950000   58.650000   7.061224\n",
       "std      2.024623    0.690476   4.870866\n",
       "min     21.700000   57.600000   0.000000\n",
       "25%     23.200000   58.125000   3.000000\n",
       "50%     24.950000   58.650000   7.000000\n",
       "75%     26.700000   59.175000  11.000000\n",
       "max     28.200000   59.700000  15.000000"
      ]
     },
     "execution_count": 52,
     "metadata": {},
     "output_type": "execute_result"
    }
   ],
   "source": [
    "weather_station_to_county_mapping.describe()"
   ]
  },
  {
   "cell_type": "code",
   "execution_count": null,
   "metadata": {},
   "outputs": [],
   "source": []
  },
  {
   "cell_type": "code",
   "execution_count": null,
   "metadata": {},
   "outputs": [],
   "source": []
  },
  {
   "cell_type": "code",
   "execution_count": null,
   "metadata": {},
   "outputs": [],
   "source": []
  },
  {
   "cell_type": "code",
   "execution_count": null,
   "metadata": {},
   "outputs": [],
   "source": []
  }
 ],
 "metadata": {
  "kernelspec": {
   "display_name": "Python 3",
   "language": "python",
   "name": "python3"
  },
  "language_info": {
   "codemirror_mode": {
    "name": "ipython",
    "version": 3
   },
   "file_extension": ".py",
   "mimetype": "text/x-python",
   "name": "python",
   "nbconvert_exporter": "python",
   "pygments_lexer": "ipython3",
   "version": "3.8.5"
  }
 },
 "nbformat": 4,
 "nbformat_minor": 4
}
